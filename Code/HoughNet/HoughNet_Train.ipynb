{
  "cells": [
    {
      "cell_type": "code",
      "execution_count": null,
      "metadata": {
        "colab": {
          "base_uri": "https://localhost:8080/"
        },
        "id": "tG5eIQLqtX8V",
        "outputId": "06c0704b-0912-482a-ef25-23837a4235b0"
      },
      "outputs": [
        {
          "output_type": "stream",
          "name": "stdout",
          "text": [
            "/usr/bin/xdg-open: 869: www-browser: not found\n",
            "/usr/bin/xdg-open: 869: links2: not found\n",
            "/usr/bin/xdg-open: 869: elinks: not found\n",
            "/usr/bin/xdg-open: 869: links: not found\n",
            "/usr/bin/xdg-open: 869: lynx: not found\n",
            "/usr/bin/xdg-open: 869: w3m: not found\n",
            "xdg-open: no method available for opening 'https://accounts.google.com/o/oauth2/auth?client_id=564921029129.apps.googleusercontent.com&redirect_uri=https%3A%2F%2Fgd-ocaml-auth.appspot.com%2Foauth2callback&scope=https%3A%2F%2Fwww.googleapis.com%2Fauth%2Fdrive&response_type=code&access_type=offline&approval_prompt=force&state=JWZS8D5YQ3W8XGhWnKTWPsq02Zqn9Jtf0qe5DxFksEc'\n",
            "/bin/sh: 1: firefox: not found\n",
            "/bin/sh: 1: google-chrome: not found\n",
            "/bin/sh: 1: chromium-browser: not found\n",
            "/bin/sh: 1: open: not found\n",
            "Cannot retrieve auth tokens.\n",
            "Failure(\"Error opening URL:https://accounts.google.com/o/oauth2/auth?client_id=564921029129.apps.googleusercontent.com&redirect_uri=https%3A%2F%2Fgd-ocaml-auth.appspot.com%2Foauth2callback&scope=https%3A%2F%2Fwww.googleapis.com%2Fauth%2Fdrive&response_type=code&access_type=offline&approval_prompt=force&state=JWZS8D5YQ3W8XGhWnKTWPsq02Zqn9Jtf0qe5DxFksEc\")\n",
            "/content\n",
            "/content/gdrive\n",
            "Access token retrieved correctly.\n"
          ]
        }
      ],
      "source": [
        "!sudo echo -ne '\\n' | sudo add-apt-repository ppa:alessandro-strada/ppa >/dev/null 2>&1 # note: >/dev/null 2>&1 is used to supress printing\n",
        "!sudo apt update >/dev/null 2>&1\n",
        "!sudo apt install google-drive-ocamlfuse >/dev/null 2>&1\n",
        "!google-drive-ocamlfuse\n",
        "!sudo apt-get install w3m >/dev/null 2>&1 # to act as web browser \n",
        "!xdg-settings set default-web-browser w3m.desktop >/dev/null 2>&1 # to set default browser \n",
        "%cd /content\n",
        "!mkdir gdrive\n",
        "%cd gdrive\n",
        "!mkdir \"MyDrive\"\n",
        "!google-drive-ocamlfuse \"/content/gdrive/MyDrive\""
      ]
    },
    {
      "cell_type": "code",
      "execution_count": null,
      "metadata": {
        "colab": {
          "base_uri": "https://localhost:8080/"
        },
        "collapsed": true,
        "id": "gtydx3SwxACB",
        "outputId": "6e0b17db-92dd-422e-e0d5-9b50eed7a033"
      },
      "outputs": [
        {
          "output_type": "stream",
          "name": "stdout",
          "text": [
            "--2023-04-14 03:19:02--  https://repo.anaconda.com/miniconda/Miniconda3-py37_4.8.2-Linux-x86_64.sh\n",
            "Resolving repo.anaconda.com (repo.anaconda.com)... 104.16.131.3, 104.16.130.3, 2606:4700::6810:8203, ...\n",
            "Connecting to repo.anaconda.com (repo.anaconda.com)|104.16.131.3|:443... connected.\n",
            "HTTP request sent, awaiting response... 200 OK\n",
            "Length: 85055499 (81M) [application/x-sh]\n",
            "Saving to: ‘Miniconda3-py37_4.8.2-Linux-x86_64.sh’\n",
            "\n",
            "Miniconda3-py37_4.8 100%[===================>]  81.12M   155MB/s    in 0.5s    \n",
            "\n",
            "2023-04-14 03:19:02 (155 MB/s) - ‘Miniconda3-py37_4.8.2-Linux-x86_64.sh’ saved [85055499/85055499]\n",
            "\n",
            "PREFIX=/usr/local\n",
            "Unpacking payload ...\n",
            "Collecting package metadata (current_repodata.json): - \b\bdone\n",
            "Solving environment: | \b\b/ \b\bdone\n",
            "\n",
            "## Package Plan ##\n",
            "\n",
            "  environment location: /usr/local\n",
            "\n",
            "  added / updated specs:\n",
            "    - _libgcc_mutex==0.1=main\n",
            "    - asn1crypto==1.3.0=py37_0\n",
            "    - ca-certificates==2020.1.1=0\n",
            "    - certifi==2019.11.28=py37_0\n",
            "    - cffi==1.14.0=py37h2e261b9_0\n",
            "    - chardet==3.0.4=py37_1003\n",
            "    - conda-package-handling==1.6.0=py37h7b6447c_0\n",
            "    - conda==4.8.2=py37_0\n",
            "    - cryptography==2.8=py37h1ba5d50_0\n",
            "    - idna==2.8=py37_0\n",
            "    - ld_impl_linux-64==2.33.1=h53a641e_7\n",
            "    - libedit==3.1.20181209=hc058e9b_0\n",
            "    - libffi==3.2.1=hd88cf55_4\n",
            "    - libgcc-ng==9.1.0=hdf63c60_0\n",
            "    - libstdcxx-ng==9.1.0=hdf63c60_0\n",
            "    - ncurses==6.2=he6710b0_0\n",
            "    - openssl==1.1.1d=h7b6447c_4\n",
            "    - pip==20.0.2=py37_1\n",
            "    - pycosat==0.6.3=py37h7b6447c_0\n",
            "    - pycparser==2.19=py37_0\n",
            "    - pyopenssl==19.1.0=py37_0\n",
            "    - pysocks==1.7.1=py37_0\n",
            "    - python==3.7.6=h0371630_2\n",
            "    - readline==7.0=h7b6447c_5\n",
            "    - requests==2.22.0=py37_1\n",
            "    - ruamel_yaml==0.15.87=py37h7b6447c_0\n",
            "    - setuptools==45.2.0=py37_0\n",
            "    - six==1.14.0=py37_0\n",
            "    - sqlite==3.31.1=h7b6447c_0\n",
            "    - tk==8.6.8=hbc83047_0\n",
            "    - tqdm==4.42.1=py_0\n",
            "    - urllib3==1.25.8=py37_0\n",
            "    - wheel==0.34.2=py37_0\n",
            "    - xz==5.2.4=h14c3975_4\n",
            "    - yaml==0.1.7=had09818_2\n",
            "    - zlib==1.2.11=h7b6447c_3\n",
            "\n",
            "\n",
            "The following NEW packages will be INSTALLED:\n",
            "\n",
            "  _libgcc_mutex      pkgs/main/linux-64::_libgcc_mutex-0.1-main\n",
            "  asn1crypto         pkgs/main/linux-64::asn1crypto-1.3.0-py37_0\n",
            "  ca-certificates    pkgs/main/linux-64::ca-certificates-2020.1.1-0\n",
            "  certifi            pkgs/main/linux-64::certifi-2019.11.28-py37_0\n",
            "  cffi               pkgs/main/linux-64::cffi-1.14.0-py37h2e261b9_0\n",
            "  chardet            pkgs/main/linux-64::chardet-3.0.4-py37_1003\n",
            "  conda              pkgs/main/linux-64::conda-4.8.2-py37_0\n",
            "  conda-package-han~ pkgs/main/linux-64::conda-package-handling-1.6.0-py37h7b6447c_0\n",
            "  cryptography       pkgs/main/linux-64::cryptography-2.8-py37h1ba5d50_0\n",
            "  idna               pkgs/main/linux-64::idna-2.8-py37_0\n",
            "  ld_impl_linux-64   pkgs/main/linux-64::ld_impl_linux-64-2.33.1-h53a641e_7\n",
            "  libedit            pkgs/main/linux-64::libedit-3.1.20181209-hc058e9b_0\n",
            "  libffi             pkgs/main/linux-64::libffi-3.2.1-hd88cf55_4\n",
            "  libgcc-ng          pkgs/main/linux-64::libgcc-ng-9.1.0-hdf63c60_0\n",
            "  libstdcxx-ng       pkgs/main/linux-64::libstdcxx-ng-9.1.0-hdf63c60_0\n",
            "  ncurses            pkgs/main/linux-64::ncurses-6.2-he6710b0_0\n",
            "  openssl            pkgs/main/linux-64::openssl-1.1.1d-h7b6447c_4\n",
            "  pip                pkgs/main/linux-64::pip-20.0.2-py37_1\n",
            "  pycosat            pkgs/main/linux-64::pycosat-0.6.3-py37h7b6447c_0\n",
            "  pycparser          pkgs/main/linux-64::pycparser-2.19-py37_0\n",
            "  pyopenssl          pkgs/main/linux-64::pyopenssl-19.1.0-py37_0\n",
            "  pysocks            pkgs/main/linux-64::pysocks-1.7.1-py37_0\n",
            "  python             pkgs/main/linux-64::python-3.7.6-h0371630_2\n",
            "  readline           pkgs/main/linux-64::readline-7.0-h7b6447c_5\n",
            "  requests           pkgs/main/linux-64::requests-2.22.0-py37_1\n",
            "  ruamel_yaml        pkgs/main/linux-64::ruamel_yaml-0.15.87-py37h7b6447c_0\n",
            "  setuptools         pkgs/main/linux-64::setuptools-45.2.0-py37_0\n",
            "  six                pkgs/main/linux-64::six-1.14.0-py37_0\n",
            "  sqlite             pkgs/main/linux-64::sqlite-3.31.1-h7b6447c_0\n",
            "  tk                 pkgs/main/linux-64::tk-8.6.8-hbc83047_0\n",
            "  tqdm               pkgs/main/noarch::tqdm-4.42.1-py_0\n",
            "  urllib3            pkgs/main/linux-64::urllib3-1.25.8-py37_0\n",
            "  wheel              pkgs/main/linux-64::wheel-0.34.2-py37_0\n",
            "  xz                 pkgs/main/linux-64::xz-5.2.4-h14c3975_4\n",
            "  yaml               pkgs/main/linux-64::yaml-0.1.7-had09818_2\n",
            "  zlib               pkgs/main/linux-64::zlib-1.2.11-h7b6447c_3\n",
            "\n",
            "\n",
            "Preparing transaction: \\ \b\b| \b\b/ \b\bdone\n",
            "Executing transaction: \\ \b\b| \b\b/ \b\b- \b\b\\ \b\b| \b\b/ \b\b- \b\b\\ \b\b| \b\b/ \b\b- \b\b\\ \b\bdone\n",
            "installation finished.\n",
            "WARNING:\n",
            "    You currently have a PYTHONPATH environment variable set. This may cause\n",
            "    unexpected behavior when running the Python interpreter in Miniconda3.\n",
            "    For best results, please verify that your PYTHONPATH only points to\n",
            "    directories of packages that are compatible with the Python interpreter\n",
            "    in Miniconda3: /usr/local\n"
          ]
        }
      ],
      "source": [
        "################################################################################\n",
        "# INSTALL CONDA ON GOOGLE COLAB\n",
        "################################################################################\n",
        "! wget https://repo.anaconda.com/miniconda/Miniconda3-py37_4.8.2-Linux-x86_64.sh\n",
        "! chmod +x Miniconda3-py37_4.8.2-Linux-x86_64.sh\n",
        "! bash ./Miniconda3-py37_4.8.2-Linux-x86_64.sh -b -f -p /usr/local\n",
        "import sys\n",
        "sys.path.append('/usr/local/lib/python3.7/site-packages/')"
      ]
    },
    {
      "cell_type": "code",
      "execution_count": null,
      "metadata": {
        "id": "0bw9hwYrpiVZ"
      },
      "outputs": [],
      "source": [
        "#!pip install torch==1.4.0 torchvision==0.5.0+cu101 -f https://download.pytorch.org/whl/torch_stable.html"
      ]
    },
    {
      "cell_type": "code",
      "execution_count": null,
      "metadata": {
        "id": "8HUWzOPXqDMM"
      },
      "outputs": [],
      "source": [
        "#!pip install torch==1.4.0 -f https://download.pytorch.org/whl/torch_stable.html!"
      ]
    },
    {
      "cell_type": "code",
      "execution_count": null,
      "metadata": {
        "colab": {
          "base_uri": "https://localhost:8080/"
        },
        "id": "FDPOBGi6_ynO",
        "outputId": "70884a98-716e-441e-d9a9-5bdb2fd88188"
      },
      "outputs": [
        {
          "output_type": "stream",
          "name": "stdout",
          "text": [
            "Looking in indexes: https://pypi.org/simple, https://us-python.pkg.dev/colab-wheels/public/simple/\n",
            "Looking in links: https://download.pytorch.org/whl/torch_stable.html\n",
            "Collecting torch==1.4.0+cu100\n",
            "  Downloading https://download.pytorch.org/whl/cu100/torch-1.4.0%2Bcu100-cp37-cp37m-linux_x86_64.whl (723.9 MB)\n",
            "\u001b[K     |████████████████████████████████| 723.9 MB 24 kB/s \n",
            "\u001b[?25hCollecting torchvision==0.5.0+cu100\n",
            "  Downloading https://download.pytorch.org/whl/cu100/torchvision-0.5.0%2Bcu100-cp37-cp37m-linux_x86_64.whl (4.0 MB)\n",
            "\u001b[K     |████████████████████████████████| 4.0 MB 853 kB/s \n",
            "\u001b[?25hCollecting pillow>=4.1.1\n",
            "  Downloading Pillow-9.5.0-cp37-cp37m-manylinux_2_17_x86_64.manylinux2014_x86_64.whl (3.3 MB)\n",
            "\u001b[K     |████████████████████████████████| 3.3 MB 7.3 MB/s \n",
            "\u001b[?25hRequirement already satisfied: six in /usr/local/lib/python3.7/site-packages (from torchvision==0.5.0+cu100) (1.14.0)\n",
            "Collecting numpy\n",
            "  Downloading numpy-1.21.6-cp37-cp37m-manylinux_2_12_x86_64.manylinux2010_x86_64.whl (15.7 MB)\n",
            "\u001b[K     |████████████████████████████████| 15.7 MB 58.8 MB/s \n",
            "\u001b[?25hInstalling collected packages: torch, pillow, numpy, torchvision\n",
            "Successfully installed numpy-1.21.6 pillow-9.5.0 torch-1.4.0+cu100 torchvision-0.5.0+cu100\n"
          ]
        }
      ],
      "source": [
        "!pip install torch==1.4.0+cu100 torchvision==0.5.0+cu100 -f https://download.pytorch.org/whl/torch_stable.html"
      ]
    },
    {
      "cell_type": "code",
      "execution_count": null,
      "metadata": {
        "collapsed": true,
        "id": "4Bta8UAyxH0X"
      },
      "outputs": [],
      "source": [
        "#HoughNet_ROOT='/content/gdrive/MyDrive/HoughNet'\n",
        "#HoughNet_ROOT='/content/gHoughNet'\n",
        "#!git clone https://github.com/nerminsamet/HoughNet $HoughNet_ROOT"
      ]
    },
    {
      "cell_type": "code",
      "source": [
        "HoughNet_ROOT='/content/gdrive/MyDrive/HoughNet'"
      ],
      "metadata": {
        "id": "paKNTkRhc7zj"
      },
      "execution_count": null,
      "outputs": []
    },
    {
      "cell_type": "code",
      "execution_count": null,
      "metadata": {
        "collapsed": true,
        "id": "_-nuXzwIxQzC"
      },
      "outputs": [],
      "source": [
        "#!conda install pytorch==1.4.0 torchvision cudatoolkit=10.1 -c pytorch"
      ]
    },
    {
      "cell_type": "code",
      "execution_count": null,
      "metadata": {
        "id": "mjkyNE_q_X67"
      },
      "outputs": [],
      "source": []
    },
    {
      "cell_type": "code",
      "execution_count": null,
      "metadata": {
        "id": "nhyrt3d6xymG"
      },
      "outputs": [],
      "source": [
        "import os\n",
        "os.chdir('/content/gdrive/MyDrive/HoughNet')\n",
        "#os.chdir('/content/gHoughNet')"
      ]
    },
    {
      "cell_type": "code",
      "execution_count": null,
      "metadata": {
        "colab": {
          "base_uri": "https://localhost:8080/",
          "height": 1000
        },
        "collapsed": true,
        "id": "5DsDX87wxTvu",
        "outputId": "61598c9b-671b-42fd-cde7-90e922142260"
      },
      "outputs": [
        {
          "output_type": "stream",
          "name": "stdout",
          "text": [
            "Looking in indexes: https://pypi.org/simple, https://us-python.pkg.dev/colab-wheels/public/simple/\n",
            "Collecting opencv-python\n",
            "  Downloading opencv_python-4.7.0.72-cp37-abi3-manylinux_2_17_x86_64.manylinux2014_x86_64.whl (61.8 MB)\n",
            "\u001b[K     |████████████████████████████████| 61.8 MB 1.2 MB/s \n",
            "\u001b[?25hCollecting Cython\n",
            "  Downloading Cython-0.29.34-cp37-cp37m-manylinux_2_17_x86_64.manylinux2014_x86_64.manylinux_2_24_x86_64.whl (1.9 MB)\n",
            "\u001b[K     |████████████████████████████████| 1.9 MB 41.3 MB/s \n",
            "\u001b[?25hCollecting numba\n",
            "  Downloading numba-0.56.4-cp37-cp37m-manylinux2014_x86_64.manylinux_2_17_x86_64.whl (3.5 MB)\n",
            "\u001b[K     |████████████████████████████████| 3.5 MB 51.2 MB/s \n",
            "\u001b[?25hCollecting progress\n",
            "  Downloading progress-1.6.tar.gz (7.8 kB)\n",
            "Collecting matplotlib\n",
            "  Downloading matplotlib-3.5.3-cp37-cp37m-manylinux_2_5_x86_64.manylinux1_x86_64.whl (11.2 MB)\n",
            "\u001b[K     |████████████████████████████████| 11.2 MB 61.3 MB/s \n",
            "\u001b[?25hCollecting easydict\n",
            "  Downloading easydict-1.10.tar.gz (6.4 kB)\n",
            "Collecting scipy\n",
            "  Downloading scipy-1.7.3-cp37-cp37m-manylinux_2_12_x86_64.manylinux2010_x86_64.whl (38.1 MB)\n",
            "\u001b[K     |████████████████████████████████| 38.1 MB 410 kB/s \n",
            "\u001b[?25hCollecting pycocotools\n",
            "  Downloading pycocotools-2.0.6.tar.gz (24 kB)\n",
            "  Installing build dependencies ... \u001b[?25l\u001b[?25hdone\n",
            "  Getting requirements to build wheel ... \u001b[?25l\u001b[?25hdone\n",
            "    Preparing wheel metadata ... \u001b[?25l\u001b[?25hdone\n",
            "Requirement already satisfied: numpy>=1.17.0; python_version >= \"3.7\" in /usr/local/lib/python3.7/site-packages (from opencv-python->-r requirements.txt (line 1)) (1.21.6)\n",
            "Requirement already satisfied: setuptools in /usr/local/lib/python3.7/site-packages (from numba->-r requirements.txt (line 3)) (45.2.0.post20200210)\n",
            "Collecting llvmlite<0.40,>=0.39.0dev0\n",
            "  Downloading llvmlite-0.39.1-cp37-cp37m-manylinux_2_17_x86_64.manylinux2014_x86_64.whl (34.6 MB)\n",
            "\u001b[K     |████████████████████████████████| 34.6 MB 120 kB/s \n",
            "\u001b[?25hCollecting importlib-metadata; python_version < \"3.9\"\n",
            "  Downloading importlib_metadata-6.3.0-py3-none-any.whl (22 kB)\n",
            "Collecting python-dateutil>=2.7\n",
            "  Downloading python_dateutil-2.8.2-py2.py3-none-any.whl (247 kB)\n",
            "\u001b[K     |████████████████████████████████| 247 kB 50.2 MB/s \n",
            "\u001b[?25hCollecting fonttools>=4.22.0\n",
            "  Downloading fonttools-4.38.0-py3-none-any.whl (965 kB)\n",
            "\u001b[K     |████████████████████████████████| 965 kB 56.5 MB/s \n",
            "\u001b[?25hCollecting kiwisolver>=1.0.1\n",
            "  Downloading kiwisolver-1.4.4-cp37-cp37m-manylinux_2_5_x86_64.manylinux1_x86_64.whl (1.1 MB)\n",
            "\u001b[K     |████████████████████████████████| 1.1 MB 50.8 MB/s \n",
            "\u001b[?25hRequirement already satisfied: pillow>=6.2.0 in /usr/local/lib/python3.7/site-packages (from matplotlib->-r requirements.txt (line 5)) (9.5.0)\n",
            "Collecting cycler>=0.10\n",
            "  Downloading cycler-0.11.0-py3-none-any.whl (6.4 kB)\n",
            "Collecting pyparsing>=2.2.1\n",
            "  Downloading pyparsing-3.0.9-py3-none-any.whl (98 kB)\n",
            "\u001b[K     |████████████████████████████████| 98 kB 8.5 MB/s \n",
            "\u001b[?25hCollecting packaging>=20.0\n",
            "  Downloading packaging-23.1-py3-none-any.whl (48 kB)\n",
            "\u001b[K     |████████████████████████████████| 48 kB 6.7 MB/s \n",
            "\u001b[?25hCollecting zipp>=0.5\n",
            "  Downloading zipp-3.15.0-py3-none-any.whl (6.8 kB)\n",
            "Collecting typing-extensions>=3.6.4; python_version < \"3.8\"\n",
            "  Downloading typing_extensions-4.5.0-py3-none-any.whl (27 kB)\n",
            "Requirement already satisfied: six>=1.5 in /usr/local/lib/python3.7/site-packages (from python-dateutil>=2.7->matplotlib->-r requirements.txt (line 5)) (1.14.0)\n",
            "Building wheels for collected packages: progress, easydict, pycocotools\n",
            "  Building wheel for progress (setup.py) ... \u001b[?25l\u001b[?25hdone\n",
            "  Created wheel for progress: filename=progress-1.6-py3-none-any.whl size=9615 sha256=24f1b6e917c2ee99f22fcb30edf2f7d7ed7155e0d8fcc0bc6665168346ec61be\n",
            "  Stored in directory: /root/.cache/pip/wheels/8e/d7/61/498d8e27dc11e9805b01eb3539e2ee344436fc226daeb5fe87\n",
            "  Building wheel for easydict (setup.py) ... \u001b[?25l\u001b[?25hdone\n",
            "  Created wheel for easydict: filename=easydict-1.10-py3-none-any.whl size=6496 sha256=fb0c05f70d0403319153efb369c6e7ffb345b5255f3691f2afebc6c8c26958f4\n",
            "  Stored in directory: /root/.cache/pip/wheels/8d/d6/16/3fd964549d5c27d89d6c5fdb4306283ca55be1799f3d48a67b\n",
            "  Building wheel for pycocotools (PEP 517) ... \u001b[?25l\u001b[?25hdone\n",
            "  Created wheel for pycocotools: filename=pycocotools-2.0.6-cp37-cp37m-linux_x86_64.whl size=374037 sha256=b74c0399ef8dd6bccb435c977359f4ccc41402e799dda2ed74fdc9f87224d026\n",
            "  Stored in directory: /root/.cache/pip/wheels/06/f6/f9/9cc49c6de8e3cf27dfddd91bf46595a057141d4583a2adaf03\n",
            "Successfully built progress easydict pycocotools\n",
            "Installing collected packages: opencv-python, Cython, llvmlite, zipp, typing-extensions, importlib-metadata, numba, progress, python-dateutil, fonttools, kiwisolver, cycler, pyparsing, packaging, matplotlib, easydict, scipy, pycocotools\n",
            "Successfully installed Cython-0.29.34 cycler-0.11.0 easydict-1.10 fonttools-4.38.0 importlib-metadata-6.3.0 kiwisolver-1.4.4 llvmlite-0.39.1 matplotlib-3.5.3 numba-0.56.4 opencv-python-4.7.0.72 packaging-23.1 progress-1.6 pycocotools-2.0.6 pyparsing-3.0.9 python-dateutil-2.8.2 scipy-1.7.3 typing-extensions-4.5.0 zipp-3.15.0\n"
          ]
        },
        {
          "output_type": "display_data",
          "data": {
            "application/vnd.colab-display-data+json": {
              "pip_warning": {
                "packages": [
                  "cycler",
                  "dateutil",
                  "kiwisolver",
                  "zipp"
                ]
              }
            }
          },
          "metadata": {}
        }
      ],
      "source": [
        "!pip install -r requirements.txt"
      ]
    },
    {
      "cell_type": "code",
      "execution_count": null,
      "metadata": {
        "collapsed": true,
        "id": "jfMYIsiXMYy4"
      },
      "outputs": [],
      "source": [
        "#!pip install gevent --pre\n",
        "#!pip install auto-py-to-exe"
      ]
    },
    {
      "cell_type": "code",
      "execution_count": null,
      "metadata": {
        "collapsed": true,
        "id": "0Cswse_721pe"
      },
      "outputs": [],
      "source": [
        "#!python -m pip install 'git+https://github.com/facebookresearch/detectron2.git'"
      ]
    },
    {
      "cell_type": "code",
      "execution_count": null,
      "metadata": {
        "collapsed": true,
        "id": "MN5n__owym9h"
      },
      "outputs": [],
      "source": [
        "#!pip uninstall torch"
      ]
    },
    {
      "cell_type": "code",
      "execution_count": null,
      "metadata": {
        "id": "ch8hmLrmxhab"
      },
      "outputs": [],
      "source": [
        "#!conda install pytorch==1.4.0 torchvision cudatoolkit=10.1 -c pytorch"
      ]
    },
    {
      "cell_type": "code",
      "execution_count": null,
      "metadata": {
        "id": "ihv5OHl52mkW"
      },
      "outputs": [],
      "source": [
        "#!conda uninstall torch"
      ]
    },
    {
      "cell_type": "code",
      "execution_count": null,
      "metadata": {
        "collapsed": true,
        "id": "R55crr2-RVba"
      },
      "outputs": [],
      "source": [
        "#!python -m pip install detectron2 -f https://dl.fbaipublicfiles.com/detectron2/wheels/cu101/torch1.4/index.html"
      ]
    },
    {
      "cell_type": "code",
      "execution_count": null,
      "metadata": {
        "id": "3Qpys1A3NMCi"
      },
      "outputs": [],
      "source": [
        "#!conda install https://anaconda.org/conda-forge/detectron2/0.2.1/download/linux-64/detectron2-0.2.1-py37h3340039_0.tar.bz2"
      ]
    },
    {
      "cell_type": "code",
      "execution_count": null,
      "metadata": {
        "id": "BZuUK5AmWePo"
      },
      "outputs": [],
      "source": [
        "#!pip uninstall detectrone2==0.2.1"
      ]
    },
    {
      "cell_type": "code",
      "execution_count": null,
      "metadata": {
        "colab": {
          "base_uri": "https://localhost:8080/"
        },
        "collapsed": true,
        "id": "Hk5J0-_AxXFa",
        "outputId": "7a806055-cd04-4ba8-cef3-64881fdc64b9"
      },
      "outputs": [
        {
          "output_type": "stream",
          "name": "stdout",
          "text": [
            "Looking in indexes: https://pypi.org/simple, https://us-python.pkg.dev/colab-wheels/public/simple/\n",
            "Looking in links: https://dl.fbaipublicfiles.com/detectron2/wheels/cu100/torch1.4/index.html\n",
            "Collecting detectron2==0.2.1\n",
            "  Downloading https://dl.fbaipublicfiles.com/detectron2/wheels/cu100/torch1.4/detectron2-0.2.1%2Bcu100-cp37-cp37m-linux_x86_64.whl (6.7 MB)\n",
            "\u001b[K     |████████████████████████████████| 6.7 MB 7.6 MB/s \n",
            "\u001b[?25hCollecting yacs>=0.1.6\n",
            "  Downloading yacs-0.1.8-py3-none-any.whl (14 kB)\n",
            "Collecting pydot\n",
            "  Downloading pydot-1.4.2-py2.py3-none-any.whl (21 kB)\n",
            "Collecting mock\n",
            "  Downloading mock-5.0.1-py3-none-any.whl (30 kB)\n",
            "Requirement already satisfied: Pillow>=7.1 in /usr/local/lib/python3.7/site-packages (from detectron2==0.2.1) (9.5.0)\n",
            "Collecting cloudpickle\n",
            "  Downloading cloudpickle-2.2.1-py3-none-any.whl (25 kB)\n",
            "Requirement already satisfied: matplotlib in /usr/local/lib/python3.7/site-packages (from detectron2==0.2.1) (3.5.3)\n",
            "Collecting termcolor>=1.1\n",
            "  Downloading termcolor-2.2.0-py3-none-any.whl (6.6 kB)\n",
            "Requirement already satisfied: pycocotools>=2.0.1 in /usr/local/lib/python3.7/site-packages (from detectron2==0.2.1) (2.0.6)\n",
            "Collecting tabulate\n",
            "  Downloading tabulate-0.9.0-py3-none-any.whl (35 kB)\n",
            "Requirement already satisfied: tqdm>4.29.0 in /usr/local/lib/python3.7/site-packages (from detectron2==0.2.1) (4.42.1)\n",
            "Collecting tensorboard\n",
            "  Downloading tensorboard-2.11.2-py3-none-any.whl (6.0 MB)\n",
            "\u001b[K     |████████████████████████████████| 6.0 MB 16.7 MB/s \n",
            "\u001b[?25hCollecting future\n",
            "  Downloading future-0.18.3.tar.gz (840 kB)\n",
            "\u001b[K     |████████████████████████████████| 840 kB 52.4 MB/s \n",
            "\u001b[?25hCollecting fvcore>=0.1.1\n",
            "  Downloading fvcore-0.1.5.post20221221.tar.gz (50 kB)\n",
            "\u001b[K     |████████████████████████████████| 50 kB 7.4 MB/s \n",
            "\u001b[?25hCollecting PyYAML\n",
            "  Downloading PyYAML-6.0-cp37-cp37m-manylinux_2_5_x86_64.manylinux1_x86_64.manylinux_2_12_x86_64.manylinux2010_x86_64.whl (596 kB)\n",
            "\u001b[K     |████████████████████████████████| 596 kB 67.9 MB/s \n",
            "\u001b[?25hRequirement already satisfied: pyparsing>=2.1.4 in /usr/local/lib/python3.7/site-packages (from pydot->detectron2==0.2.1) (3.0.9)\n",
            "Requirement already satisfied: cycler>=0.10 in /usr/local/lib/python3.7/site-packages (from matplotlib->detectron2==0.2.1) (0.11.0)\n",
            "Requirement already satisfied: kiwisolver>=1.0.1 in /usr/local/lib/python3.7/site-packages (from matplotlib->detectron2==0.2.1) (1.4.4)\n",
            "Requirement already satisfied: packaging>=20.0 in /usr/local/lib/python3.7/site-packages (from matplotlib->detectron2==0.2.1) (23.1)\n",
            "Requirement already satisfied: fonttools>=4.22.0 in /usr/local/lib/python3.7/site-packages (from matplotlib->detectron2==0.2.1) (4.38.0)\n",
            "Requirement already satisfied: python-dateutil>=2.7 in /usr/local/lib/python3.7/site-packages (from matplotlib->detectron2==0.2.1) (2.8.2)\n",
            "Requirement already satisfied: numpy>=1.17 in /usr/local/lib/python3.7/site-packages (from matplotlib->detectron2==0.2.1) (1.21.6)\n",
            "Collecting tensorboard-data-server<0.7.0,>=0.6.0\n",
            "  Downloading tensorboard_data_server-0.6.1-py3-none-manylinux2010_x86_64.whl (4.9 MB)\n",
            "\u001b[K     |████████████████████████████████| 4.9 MB 27.5 MB/s \n",
            "\u001b[?25hCollecting markdown>=2.6.8\n",
            "  Downloading Markdown-3.4.3-py3-none-any.whl (93 kB)\n",
            "\u001b[K     |████████████████████████████████| 93 kB 1.2 MB/s \n",
            "\u001b[?25hCollecting tensorboard-plugin-wit>=1.6.0\n",
            "  Downloading tensorboard_plugin_wit-1.8.1-py3-none-any.whl (781 kB)\n",
            "\u001b[K     |████████████████████████████████| 781 kB 52.9 MB/s \n",
            "\u001b[?25hRequirement already satisfied: wheel>=0.26 in /usr/local/lib/python3.7/site-packages (from tensorboard->detectron2==0.2.1) (0.34.2)\n",
            "Collecting google-auth-oauthlib<0.5,>=0.4.1\n",
            "  Downloading google_auth_oauthlib-0.4.6-py2.py3-none-any.whl (18 kB)\n",
            "Collecting grpcio>=1.24.3\n",
            "  Downloading grpcio-1.53.0-cp37-cp37m-manylinux_2_17_x86_64.manylinux2014_x86_64.whl (5.0 MB)\n",
            "\u001b[K     |████████████████████████████████| 5.0 MB 58.6 MB/s \n",
            "\u001b[?25hCollecting absl-py>=0.4\n",
            "  Downloading absl_py-1.4.0-py3-none-any.whl (126 kB)\n",
            "\u001b[K     |████████████████████████████████| 126 kB 57.0 MB/s \n",
            "\u001b[?25hCollecting werkzeug>=1.0.1\n",
            "  Downloading Werkzeug-2.2.3-py3-none-any.whl (233 kB)\n",
            "\u001b[K     |████████████████████████████████| 233 kB 55.4 MB/s \n",
            "\u001b[?25hCollecting protobuf<4,>=3.9.2\n",
            "  Downloading protobuf-3.20.3-cp37-cp37m-manylinux_2_5_x86_64.manylinux1_x86_64.whl (1.0 MB)\n",
            "\u001b[K     |████████████████████████████████| 1.0 MB 43.5 MB/s \n",
            "\u001b[?25hRequirement already satisfied: requests<3,>=2.21.0 in /usr/local/lib/python3.7/site-packages (from tensorboard->detectron2==0.2.1) (2.22.0)\n",
            "Collecting google-auth<3,>=1.6.3\n",
            "  Downloading google_auth-2.17.3-py2.py3-none-any.whl (178 kB)\n",
            "\u001b[K     |████████████████████████████████| 178 kB 47.0 MB/s \n",
            "\u001b[?25hRequirement already satisfied: setuptools>=41.0.0 in /usr/local/lib/python3.7/site-packages (from tensorboard->detectron2==0.2.1) (45.2.0.post20200210)\n",
            "Collecting iopath>=0.1.7\n",
            "  Downloading iopath-0.1.10.tar.gz (42 kB)\n",
            "\u001b[K     |████████████████████████████████| 42 kB 1.0 MB/s \n",
            "\u001b[?25hRequirement already satisfied: typing-extensions; python_version < \"3.8\" in /usr/local/lib/python3.7/site-packages (from kiwisolver>=1.0.1->matplotlib->detectron2==0.2.1) (4.5.0)\n",
            "Requirement already satisfied: six>=1.5 in /usr/local/lib/python3.7/site-packages (from python-dateutil>=2.7->matplotlib->detectron2==0.2.1) (1.14.0)\n",
            "Requirement already satisfied: importlib-metadata>=4.4; python_version < \"3.10\" in /usr/local/lib/python3.7/site-packages (from markdown>=2.6.8->tensorboard->detectron2==0.2.1) (6.3.0)\n",
            "Collecting requests-oauthlib>=0.7.0\n",
            "  Downloading requests_oauthlib-1.3.1-py2.py3-none-any.whl (23 kB)\n",
            "Collecting MarkupSafe>=2.1.1\n",
            "  Downloading MarkupSafe-2.1.2-cp37-cp37m-manylinux_2_17_x86_64.manylinux2014_x86_64.whl (25 kB)\n",
            "Requirement already satisfied: idna<2.9,>=2.5 in /usr/local/lib/python3.7/site-packages (from requests<3,>=2.21.0->tensorboard->detectron2==0.2.1) (2.8)\n",
            "Requirement already satisfied: certifi>=2017.4.17 in /usr/local/lib/python3.7/site-packages (from requests<3,>=2.21.0->tensorboard->detectron2==0.2.1) (2019.11.28)\n",
            "Requirement already satisfied: chardet<3.1.0,>=3.0.2 in /usr/local/lib/python3.7/site-packages (from requests<3,>=2.21.0->tensorboard->detectron2==0.2.1) (3.0.4)\n",
            "Requirement already satisfied: urllib3!=1.25.0,!=1.25.1,<1.26,>=1.21.1 in /usr/local/lib/python3.7/site-packages (from requests<3,>=2.21.0->tensorboard->detectron2==0.2.1) (1.25.8)\n",
            "Collecting pyasn1-modules>=0.2.1\n",
            "  Downloading pyasn1_modules-0.2.8-py2.py3-none-any.whl (155 kB)\n",
            "\u001b[K     |████████████████████████████████| 155 kB 63.4 MB/s \n",
            "\u001b[?25hCollecting rsa<5,>=3.1.4; python_version >= \"3.6\"\n",
            "  Downloading rsa-4.9-py3-none-any.whl (34 kB)\n",
            "Collecting cachetools<6.0,>=2.0.0\n",
            "  Downloading cachetools-5.3.0-py3-none-any.whl (9.3 kB)\n",
            "Collecting portalocker\n",
            "  Downloading portalocker-2.7.0-py2.py3-none-any.whl (15 kB)\n",
            "Requirement already satisfied: zipp>=0.5 in /usr/local/lib/python3.7/site-packages (from importlib-metadata>=4.4; python_version < \"3.10\"->markdown>=2.6.8->tensorboard->detectron2==0.2.1) (3.15.0)\n",
            "Collecting oauthlib>=3.0.0\n",
            "  Downloading oauthlib-3.2.2-py3-none-any.whl (151 kB)\n",
            "\u001b[K     |████████████████████████████████| 151 kB 51.9 MB/s \n",
            "\u001b[?25hCollecting pyasn1<0.5.0,>=0.4.6\n",
            "  Downloading pyasn1-0.4.8-py2.py3-none-any.whl (77 kB)\n",
            "\u001b[K     |████████████████████████████████| 77 kB 6.3 MB/s \n",
            "\u001b[?25hBuilding wheels for collected packages: future, fvcore, iopath\n",
            "  Building wheel for future (setup.py) ... \u001b[?25l\u001b[?25hdone\n",
            "  Created wheel for future: filename=future-0.18.3-py3-none-any.whl size=492025 sha256=f800c1e56084e3f6a49959e980ff161c0e1df52429dab74db4c78ac32ac9d9c2\n",
            "  Stored in directory: /root/.cache/pip/wheels/fa/cd/1f/c6b7b50b564983bf3011e8fc75d06047ddc50c07f6e3660b00\n",
            "  Building wheel for fvcore (setup.py) ... \u001b[?25l\u001b[?25hdone\n",
            "  Created wheel for fvcore: filename=fvcore-0.1.5.post20221221-py3-none-any.whl size=61432 sha256=9fd0f9b014c02d784fb6ef8e244f88451ee156737757bfbe6956594c44ee3a44\n",
            "  Stored in directory: /root/.cache/pip/wheels/af/cd/23/3fb62ec8606cb08cc18abb8d67bec255baf353623be889da1e\n",
            "  Building wheel for iopath (setup.py) ... \u001b[?25l\u001b[?25hdone\n",
            "  Created wheel for iopath: filename=iopath-0.1.10-py3-none-any.whl size=31542 sha256=f3c39d261ee9e008607c2a2becc399d881a71d2ca787529953169baa3f352270\n",
            "  Stored in directory: /root/.cache/pip/wheels/aa/cc/ed/ca4e88beef656b01c84b9185196513ef2faf74a5a379b043a7\n",
            "Successfully built future fvcore iopath\n",
            "Installing collected packages: PyYAML, yacs, pydot, mock, cloudpickle, termcolor, tabulate, tensorboard-data-server, markdown, tensorboard-plugin-wit, oauthlib, requests-oauthlib, pyasn1, pyasn1-modules, rsa, cachetools, google-auth, google-auth-oauthlib, grpcio, absl-py, MarkupSafe, werkzeug, protobuf, tensorboard, future, portalocker, iopath, fvcore, detectron2\n",
            "Successfully installed MarkupSafe-2.1.2 PyYAML-6.0 absl-py-1.4.0 cachetools-5.3.0 cloudpickle-2.2.1 detectron2-0.2.1+cu100 future-0.18.3 fvcore-0.1.5.post20221221 google-auth-2.17.3 google-auth-oauthlib-0.4.6 grpcio-1.53.0 iopath-0.1.10 markdown-3.4.3 mock-5.0.1 oauthlib-3.2.2 portalocker-2.7.0 protobuf-3.20.3 pyasn1-0.4.8 pyasn1-modules-0.2.8 pydot-1.4.2 requests-oauthlib-1.3.1 rsa-4.9 tabulate-0.9.0 tensorboard-2.11.2 tensorboard-data-server-0.6.1 tensorboard-plugin-wit-1.8.1 termcolor-2.2.0 werkzeug-2.2.3 yacs-0.1.8\n"
          ]
        }
      ],
      "source": [
        "!python -m pip install detectron2==0.2.1 -f https://dl.fbaipublicfiles.com/detectron2/wheels/cu100/torch1.4/index.html"
      ]
    },
    {
      "cell_type": "code",
      "execution_count": null,
      "metadata": {
        "id": "VnIRZ06FybjE"
      },
      "outputs": [],
      "source": [
        "#os.chdir('/content/gdrive')"
      ]
    },
    {
      "cell_type": "code",
      "execution_count": null,
      "metadata": {
        "id": "_beILST1VrU-"
      },
      "outputs": [],
      "source": [
        "#from _ext import background "
      ]
    },
    {
      "cell_type": "code",
      "execution_count": null,
      "metadata": {
        "collapsed": true,
        "id": "YyffmTfxxaql",
        "colab": {
          "base_uri": "https://localhost:8080/"
        },
        "outputId": "fd94cdd4-1044-4d7f-f138-c38ad3361c38"
      },
      "outputs": [
        {
          "output_type": "stream",
          "name": "stdout",
          "text": [
            "/content/gdrive/MyDrive/HoughNet/src/lib/models/networks/DCNv2\n",
            "running build\n",
            "running build_ext\n",
            "running develop\n",
            "running egg_info\n",
            "writing DCNv2.egg-info/PKG-INFO\n",
            "writing dependency_links to DCNv2.egg-info/dependency_links.txt\n",
            "writing top-level names to DCNv2.egg-info/top_level.txt\n",
            "reading manifest file 'DCNv2.egg-info/SOURCES.txt'\n",
            "writing manifest file 'DCNv2.egg-info/SOURCES.txt'\n",
            "running build_ext\n",
            "copying build/lib.linux-x86_64-3.7/_ext.cpython-37m-x86_64-linux-gnu.so -> \n",
            "Creating /usr/local/lib/python3.7/site-packages/DCNv2.egg-link (link to .)\n",
            "Adding DCNv2 0.1 to easy-install.pth file\n",
            "\n",
            "Installed /content/gdrive/MyDrive/HoughNet/src/lib/models/networks/DCNv2\n",
            "Processing dependencies for DCNv2==0.1\n",
            "Finished processing dependencies for DCNv2==0.1\n"
          ]
        }
      ],
      "source": [
        "%cd $HoughNet_ROOT/src/lib/models/networks/DCNv2\n",
        "!sh ./make.sh"
      ]
    },
    {
      "cell_type": "code",
      "execution_count": null,
      "metadata": {
        "id": "Mn5MV9WsESaS"
      },
      "outputs": [],
      "source": []
    },
    {
      "cell_type": "code",
      "execution_count": null,
      "metadata": {
        "id": "DTtER18Nxe9C",
        "colab": {
          "base_uri": "https://localhost:8080/"
        },
        "outputId": "611e8733-519d-4523-c6ef-ce32dc098d3f"
      },
      "outputs": [
        {
          "output_type": "stream",
          "name": "stdout",
          "text": [
            "/content/gdrive/MyDrive/HoughNet/src/lib/external\n",
            "__init__.py  nms.c\t\t\t\t  nms.pyx      setup.py\n",
            "Makefile     nms.cpython-37m-x86_64-linux-gnu.so  __pycache__\n",
            "Makefile: 1: all:: not found\n",
            "Compiling nms.pyx because it depends on /usr/local/lib/python3.7/site-packages/Cython/Includes/cpython/ref.pxd.\n",
            "[1/1] Cythonizing nms.pyx\n",
            "/usr/local/lib/python3.7/site-packages/Cython/Compiler/Main.py:369: FutureWarning: Cython directive 'language_level' not set, using 2 for now (Py2). This will change in a later release! File: /content/gdrive/MyDrive/HoughNet/src/lib/external/nms.pyx\n",
            "  tree = Parsing.p_module(s, pxd, full_module_name)\n",
            "running build_ext\n",
            "building 'nms' extension\n",
            "creating build\n",
            "creating build/temp.linux-x86_64-3.7\n",
            "gcc -pthread -B /usr/local/compiler_compat -Wl,--sysroot=/ -Wsign-compare -DNDEBUG -g -fwrapv -O3 -Wall -Wstrict-prototypes -fPIC -I/usr/local/lib/python3.7/site-packages/numpy/core/include -I/usr/local/include/python3.7m -c nms.c -o build/temp.linux-x86_64-3.7/nms.o -Wno-cpp -Wno-unused-function\n",
            "\u001b[01m\u001b[Knms.c:\u001b[m\u001b[K In function ‘\u001b[01m\u001b[K__pyx_pf_3nms_2soft_nms\u001b[m\u001b[K’:\n",
            "\u001b[01m\u001b[Knms.c:3595:33:\u001b[m\u001b[K \u001b[01;35m\u001b[Kwarning: \u001b[m\u001b[Kcomparison of integer expressions of different signedness: ‘\u001b[01m\u001b[Kint\u001b[m\u001b[K’ and ‘\u001b[01m\u001b[Kunsigned int\u001b[m\u001b[K’ [\u001b[01;35m\u001b[K-Wsign-compare\u001b[m\u001b[K]\n",
            " 3595 |       __pyx_t_8 = ((__pyx_v_pos \u001b[01;35m\u001b[K<\u001b[m\u001b[K __pyx_v_N) != 0);\n",
            "      |                                 \u001b[01;35m\u001b[K^\u001b[m\u001b[K\n",
            "\u001b[01m\u001b[Knms.c:4106:33:\u001b[m\u001b[K \u001b[01;35m\u001b[Kwarning: \u001b[m\u001b[Kcomparison of integer expressions of different signedness: ‘\u001b[01m\u001b[Kint\u001b[m\u001b[K’ and ‘\u001b[01m\u001b[Kunsigned int\u001b[m\u001b[K’ [\u001b[01;35m\u001b[K-Wsign-compare\u001b[m\u001b[K]\n",
            " 4106 |       __pyx_t_8 = ((__pyx_v_pos \u001b[01;35m\u001b[K<\u001b[m\u001b[K __pyx_v_N) != 0);\n",
            "      |                                 \u001b[01;35m\u001b[K^\u001b[m\u001b[K\n",
            "\u001b[01m\u001b[Knms.c:\u001b[m\u001b[K In function ‘\u001b[01m\u001b[K__pyx_pf_3nms_4soft_nms_39\u001b[m\u001b[K’:\n",
            "\u001b[01m\u001b[Knms.c:5333:33:\u001b[m\u001b[K \u001b[01;35m\u001b[Kwarning: \u001b[m\u001b[Kcomparison of integer expressions of different signedness: ‘\u001b[01m\u001b[Kint\u001b[m\u001b[K’ and ‘\u001b[01m\u001b[Kunsigned int\u001b[m\u001b[K’ [\u001b[01;35m\u001b[K-Wsign-compare\u001b[m\u001b[K]\n",
            " 5333 |       __pyx_t_8 = ((__pyx_v_pos \u001b[01;35m\u001b[K<\u001b[m\u001b[K __pyx_v_N) != 0);\n",
            "      |                                 \u001b[01;35m\u001b[K^\u001b[m\u001b[K\n",
            "\u001b[01m\u001b[Knms.c:5941:33:\u001b[m\u001b[K \u001b[01;35m\u001b[Kwarning: \u001b[m\u001b[Kcomparison of integer expressions of different signedness: ‘\u001b[01m\u001b[Kint\u001b[m\u001b[K’ and ‘\u001b[01m\u001b[Kunsigned int\u001b[m\u001b[K’ [\u001b[01;35m\u001b[K-Wsign-compare\u001b[m\u001b[K]\n",
            " 5941 |       __pyx_t_8 = ((__pyx_v_pos \u001b[01;35m\u001b[K<\u001b[m\u001b[K __pyx_v_N) != 0);\n",
            "      |                                 \u001b[01;35m\u001b[K^\u001b[m\u001b[K\n",
            "\u001b[01m\u001b[Knms.c:\u001b[m\u001b[K In function ‘\u001b[01m\u001b[K__pyx_pf_3nms_6soft_nms_merge\u001b[m\u001b[K’:\n",
            "\u001b[01m\u001b[Knms.c:7286:33:\u001b[m\u001b[K \u001b[01;35m\u001b[Kwarning: \u001b[m\u001b[Kcomparison of integer expressions of different signedness: ‘\u001b[01m\u001b[Kint\u001b[m\u001b[K’ and ‘\u001b[01m\u001b[Kunsigned int\u001b[m\u001b[K’ [\u001b[01;35m\u001b[K-Wsign-compare\u001b[m\u001b[K]\n",
            " 7286 |       __pyx_t_8 = ((__pyx_v_pos \u001b[01;35m\u001b[K<\u001b[m\u001b[K __pyx_v_N) != 0);\n",
            "      |                                 \u001b[01;35m\u001b[K^\u001b[m\u001b[K\n",
            "\u001b[01m\u001b[Knms.c:7989:33:\u001b[m\u001b[K \u001b[01;35m\u001b[Kwarning: \u001b[m\u001b[Kcomparison of integer expressions of different signedness: ‘\u001b[01m\u001b[Kint\u001b[m\u001b[K’ and ‘\u001b[01m\u001b[Kunsigned int\u001b[m\u001b[K’ [\u001b[01;35m\u001b[K-Wsign-compare\u001b[m\u001b[K]\n",
            " 7989 |       __pyx_t_8 = ((__pyx_v_pos \u001b[01;35m\u001b[K<\u001b[m\u001b[K __pyx_v_N) != 0);\n",
            "      |                                 \u001b[01;35m\u001b[K^\u001b[m\u001b[K\n",
            "gcc -pthread -shared -B /usr/local/compiler_compat -L/usr/local/lib -Wl,-rpath=/usr/local/lib -Wl,--no-as-needed -Wl,--sysroot=/ build/temp.linux-x86_64-3.7/nms.o -o /content/gdrive/MyDrive/HoughNet/src/lib/external/nms.cpython-37m-x86_64-linux-gnu.so\n"
          ]
        }
      ],
      "source": [
        "%cd $HoughNet_ROOT/src/lib/external\n",
        "!ls\n",
        "!sh Makefile"
      ]
    },
    {
      "cell_type": "code",
      "execution_count": null,
      "metadata": {
        "id": "q835ahQ6ySEX",
        "colab": {
          "base_uri": "https://localhost:8080/"
        },
        "outputId": "cbe9b313-80b8-4cb3-ff2b-565696448a14"
      },
      "outputs": [
        {
          "output_type": "execute_result",
          "data": {
            "text/plain": [
              "True"
            ]
          },
          "metadata": {},
          "execution_count": 21
        }
      ],
      "source": [
        "import torch\n",
        "torch.cuda.is_available()"
      ]
    },
    {
      "cell_type": "code",
      "execution_count": null,
      "metadata": {
        "id": "Ylur-8ZRVX-U"
      },
      "outputs": [],
      "source": []
    },
    {
      "cell_type": "code",
      "execution_count": null,
      "metadata": {
        "id": "lcHn8XPdKxie"
      },
      "outputs": [],
      "source": [
        "import os\n",
        "os.chdir('/content/gdrive/MyDrive/HoughNet')\n",
        "#os.chdir('/content/gHoughNet')"
      ]
    },
    {
      "cell_type": "code",
      "execution_count": null,
      "metadata": {
        "id": "-_Pv0CPysgPr"
      },
      "outputs": [],
      "source": [
        "COCO_PATH='/content/gdrive/MyDrive/SyNet_COCO/SyNet/tensorpack/examples/FasterRCNN/coco_format'"
      ]
    },
    {
      "cell_type": "code",
      "execution_count": null,
      "metadata": {
        "id": "a_jCVJvC1wlP",
        "colab": {
          "base_uri": "https://localhost:8080/"
        },
        "outputId": "d22801ee-f95b-4f2f-b8cf-25705d6c19d9"
      },
      "outputs": [
        {
          "output_type": "stream",
          "name": "stdout",
          "text": [
            "Fix size testing.\n",
            "training chunk_sizes: [2]\n",
            "The output will be saved to  /content/gdrive/MyDrive/HoughNet/src/lib/../../exp/ctdet/coco_resdcn_101\n",
            "heads {'hm': 720, 'wh': 2, 'voting_heads': {'hm'}, 'reg': 2}\n",
            "Namespace(K=100, arch='resdcn_101', aug_ddd=0.5, aug_rot=0, batch_size=2, cat_spec_wh=False, chunk_sizes=[2], coco_dir='', coco_path='/content/gdrive/MyDrive/SyNet_COCO/SyNet/tensorpack/examples/FasterRCNN/coco_format', data_dir='/content/gdrive/MyDrive/SyNet_COCO/SyNet/tensorpack/examples/FasterRCNN/coco_format', dataset='coco', debug=0, debug_dir='/content/gdrive/MyDrive/HoughNet/src/lib/../../exp/ctdet/coco_resdcn_101/debug', debugger_theme='white', demo='', dense_hp=False, dense_wh=False, dep_weight=1, dim_weight=1, down_ratio=4, eval_oracle_dep=False, eval_oracle_hm=False, eval_oracle_hmhp=False, eval_oracle_hp_offset=False, eval_oracle_kps=False, eval_oracle_offset=False, eval_oracle_wh=False, exp_dir='/content/gdrive/MyDrive/HoughNet/src/lib/../../exp/ctdet', exp_id='coco_resdcn_101', fix_res=True, flip=0.5, flip_test=False, gpus=[0], gpus_str='1', head_conv=64, heads={'hm': 720, 'wh': 2, 'voting_heads': {'hm'}, 'reg': 2}, hide_data_time=False, hm_hp=True, hm_hp_weight=1, hm_weight=1, houghnet=True, hp_weight=1, input_h=512, input_res=512, input_w=512, keep_res=False, kitti_split='3dop', load_model='', lr=0.000175, lr_step=[90, 120], master_batch_size=2, mean=array([[[0.40789655, 0.44719303, 0.47026116]]], dtype=float32), metric='loss', minicoco=False, model_v1=False, mse_loss=False, nms=False, no_color_aug=False, norm_wh=False, not_cuda_benchmark=False, not_hm_hp=False, not_prefetch_test=False, not_rand_crop=False, not_reg_bbox=False, not_reg_hp_offset=False, not_reg_offset=False, num_classes=80, num_epochs=1, num_iters=10, num_stacks=1, num_workers=16, off_weight=1, output_h=128, output_res=128, output_w=128, pad=31, peak_thresh=0.2, print_iter=100, rect_mask=False, reg_bbox=True, reg_hp_offset=True, reg_loss='l1', reg_offset=True, region_num=9, resume=False, root_dir='/content/gdrive/MyDrive/HoughNet/src/lib/../..', rot_weight=1, rotate=0, save_all=True, save_dir='/content/gdrive/MyDrive/HoughNet/src/lib/../../exp/ctdet/coco_resdcn_101', scale=0.4, seed=317, seg_feat_channel=8, seg_weight=1.0, shift=0.1, std=array([[[0.2886383 , 0.27408165, 0.27809834]]], dtype=float32), task='ctdet', test=False, test_scales=[1.0], trainval=False, val_intervals=5, vis_thresh=0.3, vote_field_size=17, wh_weight=0.1)\n",
            "Creating model...\n",
            "=> loading pretrained model https://download.pytorch.org/models/resnet101-5d3b4d8f.pth\n",
            "=> init deconv weights from normal distribution\n",
            "Setting up data...\n",
            "==> initializing coco 2017 val data.\n",
            "loading annotations into memory...\n",
            "Done (t=1.79s)\n",
            "creating index...\n",
            "index created!\n",
            "Loaded val 25884 samples\n",
            "==> initializing coco 2017 train data.\n",
            "loading annotations into memory...\n",
            "Done (t=2.75s)\n",
            "creating index...\n",
            "index created!\n",
            "Loaded train 25884 samples\n",
            "Starting training...\n",
            "/usr/local/lib/python3.7/site-packages/torch/nn/_reduction.py:43: UserWarning: size_average and reduce args will be deprecated, please use reduction='sum' instead.\n",
            "  warnings.warn(warning.format(ret))\n",
            "ctdet/coco_resdcn_101| train: [1][0/10]|Tot: 0:00:08 |ETA: 0:00:00 |loss 90850.8047 |hm_loss 90849.2031 |wh_loss 11.4918 |off_loss 0.4544 |Data 2.456s(2.456s) |Net 8.718s\n",
            "\n",
            "\u001b[?25h"
          ]
        }
      ],
      "source": [
        "!python src/main.py ctdet --houghnet --exp_id coco_resdcn_101 --arch resdcn_101 --batch_size 2 --master_batch 2 --lr 1.75e-4 --gpus 1 --num_iters 10 --num_workers 16 --coco_path '/content/gdrive/MyDrive/SyNet_COCO/SyNet/tensorpack/examples/FasterRCNN/coco_format'"
      ]
    },
    {
      "cell_type": "code",
      "execution_count": null,
      "metadata": {
        "id": "TNp0EkGvz7fQ"
      },
      "outputs": [],
      "source": [
        "#!pip install torch -f https://download.pytorch.org/whl/cu101/torch-1.4.0-cp37-cp37m-linux_x86_64.whl"
      ]
    },
    {
      "cell_type": "code",
      "execution_count": null,
      "metadata": {
        "id": "3hjWFXKuw65t"
      },
      "outputs": [],
      "source": [
        "#!python"
      ]
    },
    {
      "cell_type": "code",
      "execution_count": null,
      "metadata": {
        "id": "Yuwoicfe5X_h"
      },
      "outputs": [],
      "source": [
        "#from skimage.io import imread"
      ]
    },
    {
      "cell_type": "code",
      "execution_count": null,
      "metadata": {
        "colab": {
          "base_uri": "https://localhost:8080/"
        },
        "id": "RYevPgfT5gQo",
        "outputId": "333ffb47-953e-4b19-8488-f890b1150aa8"
      },
      "outputs": [
        {
          "name": "stdout",
          "output_type": "stream",
          "text": [
            "'My Drive'   MyDrive\n"
          ]
        }
      ],
      "source": [
        "#!ls /content/gdrive"
      ]
    },
    {
      "cell_type": "code",
      "execution_count": null,
      "metadata": {
        "colab": {
          "base_uri": "https://localhost:8080/"
        },
        "id": "FioAgWps6TLr",
        "outputId": "d4cddabc-d2e5-4fcc-d1b4-00567ea0f5cd"
      },
      "outputs": [
        {
          "name": "stdout",
          "output_type": "stream",
          "text": [
            "\u001b[33mWARNING: Skipping pytorch as it is not installed.\u001b[0m\n"
          ]
        }
      ],
      "source": [
        "#!pip uninstall pytorch"
      ]
    },
    {
      "cell_type": "code",
      "execution_count": null,
      "metadata": {
        "id": "HpFukEY3vhoR"
      },
      "outputs": [],
      "source": [
        "import torch"
      ]
    },
    {
      "cell_type": "code",
      "execution_count": null,
      "metadata": {
        "id": "lxK-ZMxjwAwW",
        "colab": {
          "base_uri": "https://localhost:8080/"
        },
        "outputId": "9eaf14de-908f-4612-beea-c1ca0cec1169"
      },
      "outputs": [
        {
          "output_type": "stream",
          "name": "stdout",
          "text": [
            "1.13.1+cu116\n"
          ]
        }
      ],
      "source": [
        "print(torch.__version__)"
      ]
    },
    {
      "cell_type": "code",
      "source": [
        "import os\n",
        "os.chdir('/content/gdrive/MyDrive/HoughNet')\n",
        "#os.chdir('/content/gHoughNet')"
      ],
      "metadata": {
        "id": "SJzxs-by-MmT"
      },
      "execution_count": null,
      "outputs": []
    },
    {
      "cell_type": "code",
      "source": [],
      "metadata": {
        "id": "4zZKbzy4p_kI"
      },
      "execution_count": null,
      "outputs": []
    },
    {
      "cell_type": "code",
      "execution_count": null,
      "metadata": {
        "id": "Z6GcNqsjwEQb",
        "colab": {
          "base_uri": "https://localhost:8080/"
        },
        "outputId": "18e6c513-b915-48d7-9b62-807c21239df7"
      },
      "outputs": [
        {
          "output_type": "stream",
          "name": "stdout",
          "text": [
            "Keep resolution testing.\n",
            "training chunk_sizes: [2]\n",
            "The output will be saved to  /content/gdrive/MyDrive/HoughNet/src/lib/../../exp/ctdet/coco_resdcn_101\n",
            "heads {'hm': 108, 'wh': 2, 'voting_heads': {'hm'}, 'reg': 2}\n",
            "Namespace(K=100, arch='resdcn_101', aug_ddd=0.5, aug_rot=0, batch_size=2, cat_spec_wh=False, chunk_sizes=[2], coco_dir='', coco_path='/content/gdrive/MyDrive/QueryDet-PyTorch/data/visdrone/coco_format/', data_dir='/content/gdrive/MyDrive/QueryDet-PyTorch/data/visdrone/coco_format/', dataset='coco', debug=0, debug_dir='/content/gdrive/MyDrive/HoughNet/src/lib/../../exp/ctdet/coco_resdcn_101/debug', debugger_theme='white', demo='', dense_hp=False, dense_wh=False, dep_weight=1, dim_weight=1, down_ratio=4, eval_oracle_dep=False, eval_oracle_hm=False, eval_oracle_hmhp=False, eval_oracle_hp_offset=False, eval_oracle_kps=False, eval_oracle_offset=False, eval_oracle_wh=False, exp_dir='/content/gdrive/MyDrive/HoughNet/src/lib/../../exp/ctdet', exp_id='coco_resdcn_101', fix_res=False, flip=0.5, flip_test=False, gpus=[0], gpus_str='0', head_conv=64, heads={'hm': 108, 'wh': 2, 'voting_heads': {'hm'}, 'reg': 2}, hide_data_time=False, hm_hp=True, hm_hp_weight=1, hm_weight=1, houghnet=True, hp_weight=1, input_h=512, input_res=512, input_w=512, keep_res=True, kitti_split='3dop', load_model='/content/gdrive/MyDrive/HoughNet/exp/ctdet1/coco_resdcn_101/model_last.pth', lr=0.000125, lr_step=[90, 120], master_batch_size=2, mean=array([[[0.40789655, 0.44719303, 0.47026116]]], dtype=float32), metric='loss', minicoco=False, model_v1=False, mse_loss=False, nms=False, no_color_aug=False, norm_wh=False, not_cuda_benchmark=False, not_hm_hp=False, not_prefetch_test=False, not_rand_crop=False, not_reg_bbox=False, not_reg_hp_offset=False, not_reg_offset=False, num_classes=12, num_epochs=140, num_iters=-1, num_stacks=1, num_workers=4, off_weight=1, output_h=128, output_res=128, output_w=128, pad=31, peak_thresh=0.2, print_iter=100, rect_mask=False, reg_bbox=True, reg_hp_offset=True, reg_loss='l1', reg_offset=True, region_num=9, resume=False, root_dir='/content/gdrive/MyDrive/HoughNet/src/lib/../..', rot_weight=1, rotate=0, save_all=True, save_dir='/content/gdrive/MyDrive/HoughNet/src/lib/../../exp/ctdet/coco_resdcn_101', scale=0.4, seed=317, seg_feat_channel=8, seg_weight=1.0, shift=0.1, std=array([[[0.2886383 , 0.27408165, 0.27809834]]], dtype=float32), task='ctdet', test=False, test_scales=[1.0], trainval=False, val_intervals=5, vis_thresh=0.3, vote_field_size=17, wh_weight=0.1)\n",
            "==> initializing coco 2017 val data.\n",
            "loading annotations into memory...\n",
            "Done (t=1.74s)\n",
            "creating index...\n",
            "index created!\n",
            "Loaded val 548 samples\n",
            "Creating model...\n",
            "=> loading pretrained model https://download.pytorch.org/models/resnet101-5d3b4d8f.pth\n",
            "=> init deconv weights from normal distribution\n",
            "loaded /content/gdrive/MyDrive/HoughNet/exp/ctdet1/coco_resdcn_101/model_last.pth, epoch 139\n",
            "coco_resdcn_101 |################################| [547/548]|Tot: 0:07:56 |ETA: 0:00:02 |tot 0.075s (0.129s) |load 0.000s (0.000s) |pre 0.001s (0.001s) |net 0.070s (0.124s) |dec 0.002s (0.002s) |post 0.002s (0.002s) |merge 0.000s (0.000s) \n",
            "|tot 0.075s (0.129s) \n",
            "|load 0.000s (0.000s) \n",
            "|pre 0.001s (0.001s) \n",
            "|net 0.070s (0.124s) \n",
            "|dec 0.002s (0.002s) \n",
            "|post 0.002s (0.002s) \n",
            "|merge 0.000s (0.000s) \n",
            "Loading and preparing results...\n",
            "DONE (t=0.37s)\n",
            "creating index...\n",
            "index created!\n",
            "Running per image evaluation...\n",
            "Evaluate annotation type *bbox*\n",
            "DONE (t=19.73s).\n",
            "Accumulating evaluation results...\n",
            "DONE (t=0.83s).\n",
            " Average Precision  (AP) @[ IoU=0.50:0.95 | area=   all | maxDets=100 ] = 0.000\n",
            " Average Precision  (AP) @[ IoU=0.50      | area=   all | maxDets=100 ] = 0.000\n",
            " Average Precision  (AP) @[ IoU=0.75      | area=   all | maxDets=100 ] = 0.000\n",
            " Average Precision  (AP) @[ IoU=0.50:0.95 | area= small | maxDets=100 ] = 0.000\n",
            " Average Precision  (AP) @[ IoU=0.50:0.95 | area=medium | maxDets=100 ] = 0.000\n",
            " Average Precision  (AP) @[ IoU=0.50:0.95 | area= large | maxDets=100 ] = 0.000\n",
            " Average Recall     (AR) @[ IoU=0.50:0.95 | area=   all | maxDets=  1 ] = 0.000\n",
            " Average Recall     (AR) @[ IoU=0.50:0.95 | area=   all | maxDets= 10 ] = 0.000\n",
            " Average Recall     (AR) @[ IoU=0.50:0.95 | area=   all | maxDets=100 ] = 0.000\n",
            " Average Recall     (AR) @[ IoU=0.50:0.95 | area= small | maxDets=100 ] = 0.000\n",
            " Average Recall     (AR) @[ IoU=0.50:0.95 | area=medium | maxDets=100 ] = 0.000\n",
            " Average Recall     (AR) @[ IoU=0.50:0.95 | area= large | maxDets=100 ] = 0.000\n",
            "\u001b[?25h"
          ]
        }
      ],
      "source": [
        "!python src/test.py ctdet --houghnet --exp_id coco_resdcn_101 --batch_size 2 --arch resdcn_101 --keep_res  --load_model '/content/gdrive/MyDrive/HoughNet/exp/ctdet1/coco_resdcn_101/model_last.pth' --coco_path '/content/gdrive/MyDrive/QueryDet-PyTorch/data/visdrone/coco_format/'"
      ]
    },
    {
      "cell_type": "code",
      "source": [
        "!python src/demo.py ctdet --demo '/content/gdrive/MyDrive/9999937_00000_d_0000002.jpg' --vis_thresh 0.05 --keep_res --load_model '/content/gdrive/MyDrive/HoughNet/exp/ctdet1/coco_resdcn_101/model_last.pth' --debug 1 --resume"
      ],
      "metadata": {
        "id": "tlXfRr-i9dr7",
        "colab": {
          "base_uri": "https://localhost:8080/"
        },
        "outputId": "811071d9-41f1-4d99-de89-ebf66e12767e"
      },
      "execution_count": null,
      "outputs": [
        {
          "output_type": "stream",
          "name": "stdout",
          "text": [
            "Keep resolution testing.\n",
            "training chunk_sizes: [1]\n",
            "The output will be saved to  /content/gdrive/MyDrive/HoughNet/\n",
            "heads {'hm': 12, 'wh': 2, 'voting_heads': {}, 'reg': 2}\n",
            "Creating model...\n",
            "=> loading pretrained model https://download.pytorch.org/models/resnet101-5d3b4d8f.pth\n",
            "=> init deconv weights from normal distribution\n",
            "loaded /content/gdrive/MyDrive/HoughNet/exp/ctdet1/coco_resdcn_101/model_last.pth, epoch 139\n",
            "Drop parameter voting_hm.deconv_filters.0.weight.\n",
            "Skip loading parameter hm.2.weight, required shapetorch.Size([12, 64, 1, 1]), loaded shapetorch.Size([108, 64, 1, 1]).\n",
            "Skip loading parameter hm.2.bias, required shapetorch.Size([12]), loaded shapetorch.Size([108]).\n",
            "['/content/gdrive/MyDrive/9999937_00000_d_0000002.jpg']\n",
            "aviyo\n",
            "True\n",
            "lo\n",
            "[[[103 120  83]\n",
            "  [ 56  74  37]\n",
            "  [ 70  91  53]\n",
            "  ...\n",
            "  [ 32  42  25]\n",
            "  [ 33  44  24]\n",
            "  [ 35  46  26]]\n",
            "\n",
            " [[ 90 107  73]\n",
            "  [ 82 103  65]\n",
            "  [ 76  99  61]\n",
            "  ...\n",
            "  [ 30  40  23]\n",
            "  [ 31  41  24]\n",
            "  [ 31  42  22]]\n",
            "\n",
            " [[ 46  70  36]\n",
            "  [ 72  98  62]\n",
            "  [ 65  93  57]\n",
            "  ...\n",
            "  [ 27  37  21]\n",
            "  [ 27  37  21]\n",
            "  [ 27  37  20]]\n",
            "\n",
            " ...\n",
            "\n",
            " [[102 255 255]\n",
            "  [102 255 255]\n",
            "  [102 255 255]\n",
            "  ...\n",
            "  [102 255 255]\n",
            "  [102 255 255]\n",
            "  [102 255 255]]\n",
            "\n",
            " [[102 255 255]\n",
            "  [102 255 255]\n",
            "  [102 255 255]\n",
            "  ...\n",
            "  [102 255 255]\n",
            "  [102 255 255]\n",
            "  [102 255 255]]\n",
            "\n",
            " [[102 255 255]\n",
            "  [102 255 255]\n",
            "  [102 255 255]\n",
            "  ...\n",
            "  [102 102 102]\n",
            "  [102 102 102]\n",
            "  [102 102 102]]]\n",
            "Figure(640x480)\n",
            "Traceback (most recent call last):\n",
            "  File \"src/demo.py\", line 69, in <module>\n",
            "    demo(opt)\n",
            "  File \"src/demo.py\", line 61, in demo\n",
            "    ret = detector.run(image_name)\n",
            "  File \"/content/gdrive/MyDrive/HoughNet/src/lib/detectors/base_detector.py\", line 141, in run\n",
            "    self.show_results(debugger, image, results)\n",
            "  File \"/content/gdrive/MyDrive/HoughNet/src/lib/detectors/ctdet.py\", line 95, in show_results\n",
            "    debugger.show_all_imgs(pause=self.pause)\n",
            "  File \"/content/gdrive/MyDrive/HoughNet/src/lib/utils/debugger.py\", line 237, in show_all_imgs\n",
            "    cv2.imshow(im)\n",
            "cv2.error: OpenCV(4.7.0) :-1: error: (-5:Bad argument) in function 'imshow'\n",
            "> Overload resolution failed:\n",
            ">  - imshow() missing required argument 'mat' (pos 2)\n",
            ">  - imshow() missing required argument 'mat' (pos 2)\n",
            ">  - imshow() missing required argument 'mat' (pos 2)\n",
            "\n"
          ]
        }
      ]
    },
    {
      "cell_type": "code",
      "source": [],
      "metadata": {
        "id": "XYjoLMAYMTgd"
      },
      "execution_count": null,
      "outputs": []
    },
    {
      "cell_type": "code",
      "source": [],
      "metadata": {
        "id": "NsOyX42zYfuq"
      },
      "execution_count": null,
      "outputs": []
    },
    {
      "cell_type": "code",
      "source": [],
      "metadata": {
        "id": "7l8DD4xwYftn"
      },
      "execution_count": null,
      "outputs": []
    },
    {
      "cell_type": "code",
      "source": [],
      "metadata": {
        "id": "DfzAO5ArYfnv"
      },
      "execution_count": null,
      "outputs": []
    },
    {
      "cell_type": "code",
      "source": [
        "import os\n",
        "os.chdir('/content')"
      ],
      "metadata": {
        "id": "rUPwezIcYfmp"
      },
      "execution_count": null,
      "outputs": []
    },
    {
      "cell_type": "code",
      "source": [
        "CenterNet_ROOT='/content/CenterNet'\n",
        "!git clone https://github.com/xingyizhou/CenterNet $CenterNet_ROOT"
      ],
      "metadata": {
        "colab": {
          "base_uri": "https://localhost:8080/"
        },
        "id": "Ant8-_GEYzpY",
        "outputId": "f5427824-ae58-44e6-c9e2-d22ea9175821"
      },
      "execution_count": null,
      "outputs": [
        {
          "output_type": "stream",
          "name": "stdout",
          "text": [
            "Cloning into '/content/CenterNet'...\n",
            "remote: Enumerating objects: 397, done.\u001b[K\n",
            "remote: Total 397 (delta 0), reused 0 (delta 0), pack-reused 397\u001b[K\n",
            "Receiving objects: 100% (397/397), 6.26 MiB | 14.95 MiB/s, done.\n",
            "Resolving deltas: 100% (179/179), done.\n"
          ]
        }
      ]
    },
    {
      "cell_type": "code",
      "source": [
        "os.chdir(CenterNet_ROOT)"
      ],
      "metadata": {
        "id": "kEA5Wn7GZLTA"
      },
      "execution_count": null,
      "outputs": []
    },
    {
      "cell_type": "code",
      "source": [
        "!pip install -r requirements.txt"
      ],
      "metadata": {
        "colab": {
          "base_uri": "https://localhost:8080/",
          "height": 1000
        },
        "collapsed": true,
        "id": "pvn33ePYZTZx",
        "outputId": "a9192655-dbe1-423a-b5f1-e273670d358b"
      },
      "execution_count": null,
      "outputs": [
        {
          "output_type": "stream",
          "name": "stdout",
          "text": [
            "Looking in indexes: https://pypi.org/simple, https://us-python.pkg.dev/colab-wheels/public/simple/\n",
            "Collecting opencv-python\n",
            "  Downloading opencv_python-4.7.0.72-cp37-abi3-manylinux_2_17_x86_64.manylinux2014_x86_64.whl (61.8 MB)\n",
            "\u001b[K     |████████████████████████████████| 61.8 MB 1.2 MB/s \n",
            "\u001b[?25hCollecting Cython\n",
            "  Downloading Cython-0.29.34-cp37-cp37m-manylinux_2_17_x86_64.manylinux2014_x86_64.manylinux_2_24_x86_64.whl (1.9 MB)\n",
            "\u001b[K     |████████████████████████████████| 1.9 MB 50.0 MB/s \n",
            "\u001b[?25hCollecting numba\n",
            "  Downloading numba-0.56.4-cp37-cp37m-manylinux2014_x86_64.manylinux_2_17_x86_64.whl (3.5 MB)\n",
            "\u001b[K     |████████████████████████████████| 3.5 MB 63.9 MB/s \n",
            "\u001b[?25hCollecting progress\n",
            "  Downloading progress-1.6.tar.gz (7.8 kB)\n",
            "Collecting matplotlib\n",
            "  Downloading matplotlib-3.5.3-cp37-cp37m-manylinux_2_5_x86_64.manylinux1_x86_64.whl (11.2 MB)\n",
            "\u001b[K     |████████████████████████████████| 11.2 MB 64.0 MB/s \n",
            "\u001b[?25hCollecting easydict\n",
            "  Downloading easydict-1.10.tar.gz (6.4 kB)\n",
            "Collecting scipy\n",
            "  Downloading scipy-1.7.3-cp37-cp37m-manylinux_2_12_x86_64.manylinux2010_x86_64.whl (38.1 MB)\n",
            "\u001b[K     |████████████████████████████████| 38.1 MB 1.3 MB/s \n",
            "\u001b[?25hCollecting pycocotools\n",
            "  Downloading pycocotools-2.0.6.tar.gz (24 kB)\n",
            "  Installing build dependencies ... \u001b[?25l\u001b[?25hdone\n",
            "  Getting requirements to build wheel ... \u001b[?25l\u001b[?25hdone\n",
            "    Preparing wheel metadata ... \u001b[?25l\u001b[?25hdone\n",
            "Collecting numpy>=1.17.0; python_version >= \"3.7\"\n",
            "  Downloading numpy-1.21.6-cp37-cp37m-manylinux_2_12_x86_64.manylinux2010_x86_64.whl (15.7 MB)\n",
            "\u001b[K     |████████████████████████████████| 15.7 MB 60.6 MB/s \n",
            "\u001b[?25hRequirement already satisfied: setuptools in /usr/local/lib/python3.7/site-packages (from numba->-r requirements.txt (line 3)) (45.2.0.post20200210)\n",
            "Collecting importlib-metadata; python_version < \"3.9\"\n",
            "  Downloading importlib_metadata-6.3.0-py3-none-any.whl (22 kB)\n",
            "Collecting llvmlite<0.40,>=0.39.0dev0\n",
            "  Downloading llvmlite-0.39.1-cp37-cp37m-manylinux_2_17_x86_64.manylinux2014_x86_64.whl (34.6 MB)\n",
            "\u001b[K     |████████████████████████████████| 34.6 MB 139 kB/s \n",
            "\u001b[?25hCollecting pyparsing>=2.2.1\n",
            "  Downloading pyparsing-3.0.9-py3-none-any.whl (98 kB)\n",
            "\u001b[K     |████████████████████████████████| 98 kB 9.6 MB/s \n",
            "\u001b[?25hCollecting fonttools>=4.22.0\n",
            "  Downloading fonttools-4.38.0-py3-none-any.whl (965 kB)\n",
            "\u001b[K     |████████████████████████████████| 965 kB 56.1 MB/s \n",
            "\u001b[?25hCollecting packaging>=20.0\n",
            "  Downloading packaging-23.1-py3-none-any.whl (48 kB)\n",
            "\u001b[K     |████████████████████████████████| 48 kB 6.6 MB/s \n",
            "\u001b[?25hCollecting pillow>=6.2.0\n",
            "  Downloading Pillow-9.5.0-cp37-cp37m-manylinux_2_17_x86_64.manylinux2014_x86_64.whl (3.3 MB)\n",
            "\u001b[K     |████████████████████████████████| 3.3 MB 48.9 MB/s \n",
            "\u001b[?25hCollecting cycler>=0.10\n",
            "  Downloading cycler-0.11.0-py3-none-any.whl (6.4 kB)\n",
            "Collecting kiwisolver>=1.0.1\n",
            "  Downloading kiwisolver-1.4.4-cp37-cp37m-manylinux_2_5_x86_64.manylinux1_x86_64.whl (1.1 MB)\n",
            "\u001b[K     |████████████████████████████████| 1.1 MB 38.3 MB/s \n",
            "\u001b[?25hCollecting python-dateutil>=2.7\n",
            "  Downloading python_dateutil-2.8.2-py2.py3-none-any.whl (247 kB)\n",
            "\u001b[K     |████████████████████████████████| 247 kB 46.9 MB/s \n",
            "\u001b[?25hCollecting typing-extensions>=3.6.4; python_version < \"3.8\"\n",
            "  Downloading typing_extensions-4.5.0-py3-none-any.whl (27 kB)\n",
            "Collecting zipp>=0.5\n",
            "  Downloading zipp-3.15.0-py3-none-any.whl (6.8 kB)\n",
            "Requirement already satisfied: six>=1.5 in /usr/local/lib/python3.7/site-packages (from python-dateutil>=2.7->matplotlib->-r requirements.txt (line 5)) (1.14.0)\n",
            "Building wheels for collected packages: progress, easydict, pycocotools\n",
            "  Building wheel for progress (setup.py) ... \u001b[?25l\u001b[?25hdone\n",
            "  Created wheel for progress: filename=progress-1.6-py3-none-any.whl size=9615 sha256=7aa22d15edbd8d46574dbea6261dc8991944edc226ccf21f71055c92f307a047\n",
            "  Stored in directory: /root/.cache/pip/wheels/8e/d7/61/498d8e27dc11e9805b01eb3539e2ee344436fc226daeb5fe87\n",
            "  Building wheel for easydict (setup.py) ... \u001b[?25l\u001b[?25hdone\n",
            "  Created wheel for easydict: filename=easydict-1.10-py3-none-any.whl size=6496 sha256=955bf03e23ae6e33e45e865a8b61b28f52116faf99fc6141a3a8492f61e4a9bf\n",
            "  Stored in directory: /root/.cache/pip/wheels/8d/d6/16/3fd964549d5c27d89d6c5fdb4306283ca55be1799f3d48a67b\n",
            "  Building wheel for pycocotools (PEP 517) ... \u001b[?25l\u001b[?25hdone\n",
            "  Created wheel for pycocotools: filename=pycocotools-2.0.6-cp37-cp37m-linux_x86_64.whl size=374034 sha256=8a710f33d7af6425f4cd906e58374e81f0e6373bf8b652d8f8310c0d880b2675\n",
            "  Stored in directory: /root/.cache/pip/wheels/06/f6/f9/9cc49c6de8e3cf27dfddd91bf46595a057141d4583a2adaf03\n",
            "Successfully built progress easydict pycocotools\n",
            "Installing collected packages: numpy, opencv-python, Cython, typing-extensions, zipp, importlib-metadata, llvmlite, numba, progress, pyparsing, fonttools, packaging, pillow, cycler, kiwisolver, python-dateutil, matplotlib, easydict, scipy, pycocotools\n",
            "Successfully installed Cython-0.29.34 cycler-0.11.0 easydict-1.10 fonttools-4.38.0 importlib-metadata-6.3.0 kiwisolver-1.4.4 llvmlite-0.39.1 matplotlib-3.5.3 numba-0.56.4 numpy-1.21.6 opencv-python-4.7.0.72 packaging-23.1 pillow-9.5.0 progress-1.6 pycocotools-2.0.6 pyparsing-3.0.9 python-dateutil-2.8.2 scipy-1.7.3 typing-extensions-4.5.0 zipp-3.15.0\n"
          ]
        },
        {
          "output_type": "display_data",
          "data": {
            "application/vnd.colab-display-data+json": {
              "pip_warning": {
                "packages": [
                  "cycler",
                  "dateutil",
                  "kiwisolver",
                  "zipp"
                ]
              }
            }
          },
          "metadata": {}
        }
      ]
    },
    {
      "cell_type": "code",
      "source": [
        "%cd $CenterNet_ROOT/src/lib/models/networks/DCNv2\n",
        "!sh ./make.sh"
      ],
      "metadata": {
        "colab": {
          "base_uri": "https://localhost:8080/"
        },
        "id": "uUkBWAYkZXid",
        "outputId": "f339b842-7562-46b9-914e-ba3daada15a4"
      },
      "execution_count": null,
      "outputs": [
        {
          "output_type": "stream",
          "name": "stdout",
          "text": [
            "/content/CenterNet/src/lib/models/networks/DCNv2\n",
            "/content/CenterNet/src/lib/models/networks/DCNv2\n",
            "Traceback (most recent call last):\n",
            "  File \"build.py\", line 3, in <module>\n",
            "    from torch.utils.ffi import create_extension\n",
            "  File \"/usr/local/lib/python3.7/site-packages/torch/utils/ffi/__init__.py\", line 1, in <module>\n",
            "    raise ImportError(\"torch.utils.ffi is deprecated. Please use cpp extensions instead.\")\n",
            "ImportError: torch.utils.ffi is deprecated. Please use cpp extensions instead.\n",
            "Traceback (most recent call last):\n",
            "  File \"build_double.py\", line 3, in <module>\n",
            "    from torch.utils.ffi import create_extension\n",
            "  File \"/usr/local/lib/python3.7/site-packages/torch/utils/ffi/__init__.py\", line 1, in <module>\n",
            "    raise ImportError(\"torch.utils.ffi is deprecated. Please use cpp extensions instead.\")\n",
            "ImportError: torch.utils.ffi is deprecated. Please use cpp extensions instead.\n"
          ]
        }
      ]
    },
    {
      "cell_type": "code",
      "source": [
        "!conda install -c anaconda ipykernel"
      ],
      "metadata": {
        "id": "CdmL86VTZlrl",
        "colab": {
          "base_uri": "https://localhost:8080/"
        },
        "outputId": "ab8a095b-4469-4727-b2bf-2af8c7284906"
      },
      "execution_count": null,
      "outputs": [
        {
          "output_type": "stream",
          "name": "stdout",
          "text": [
            "Collecting package metadata (current_repodata.json): - \b\b\\ \b\b| \b\b/ \b\b- \b\b\\ \b\b| \b\b/ \b\b- \b\b\\ \b\b| \b\b/ \b\b- \b\b\\ \b\b| \b\b/ \b\b- \b\b\\ \b\b| \b\b/ \b\b- \b\b\\ \b\b| \b\b/ \b\b- \b\b\\ \b\b| \b\b/ \b\b- \b\b\\ \b\b| \b\b/ \b\b- \b\b\\ \b\b| \b\b/ \b\b- \b\b\\ \b\b| \b\b/ \b\b- \b\b\\ \b\bdone\n",
            "Solving environment: / \b\b- \b\b\\ \b\b| \b\b/ \b\b- \b\b\\ \b\b| \b\b/ \b\b- \b\b\\ \b\b| \b\b/ \b\b- \b\b\\ \b\b| \b\b/ \b\b- \b\b\\ \b\b| \b\b/ \b\b- \b\b\\ \b\b| \b\b/ \b\b- \b\b\\ \b\b| \b\b/ \b\b- \b\b\\ \b\b| \b\b/ \b\bdone\n",
            "\n",
            "\n",
            "==> WARNING: A newer version of conda exists. <==\n",
            "  current version: 4.8.2\n",
            "  latest version: 23.3.1\n",
            "\n",
            "Please update conda by running\n",
            "\n",
            "    $ conda update -n base -c defaults conda\n",
            "\n",
            "\n",
            "\n",
            "## Package Plan ##\n",
            "\n",
            "  environment location: /usr/local\n",
            "\n",
            "  added / updated specs:\n",
            "    - ipykernel\n",
            "\n",
            "\n",
            "The following packages will be downloaded:\n",
            "\n",
            "    package                    |            build\n",
            "    ---------------------------|-----------------\n",
            "    _openmp_mutex-5.1          |            1_gnu          20 KB  anaconda\n",
            "    backcall-0.2.0             |     pyhd3eb1b0_0          13 KB  anaconda\n",
            "    ca-certificates-2023.01.10 |       h06a4308_0         127 KB  anaconda\n",
            "    certifi-2022.12.7          |   py37h06a4308_0         152 KB  anaconda\n",
            "    conda-23.1.0               |   py37h06a4308_0         955 KB  anaconda\n",
            "    debugpy-1.5.1              |   py37h295c915_0         2.0 MB  anaconda\n",
            "    decorator-5.1.1            |     pyhd3eb1b0_0          12 KB  anaconda\n",
            "    entrypoints-0.4            |   py37h06a4308_0          16 KB  anaconda\n",
            "    flit-core-3.6.0            |     pyhd3eb1b0_0          42 KB  anaconda\n",
            "    importlib-metadata-4.11.3  |   py37h06a4308_0          40 KB  anaconda\n",
            "    importlib_metadata-4.11.3  |       hd3eb1b0_0          12 KB  anaconda\n",
            "    ipykernel-6.15.2           |   py37h06a4308_0         185 KB  anaconda\n",
            "    ipython-7.31.1             |   py37h06a4308_1         1.1 MB  anaconda\n",
            "    jedi-0.18.1                |   py37h06a4308_1        1001 KB  anaconda\n",
            "    jupyter_client-7.4.8       |   py37h06a4308_0         189 KB  anaconda\n",
            "    jupyter_core-4.11.1        |   py37h06a4308_0          81 KB  anaconda\n",
            "    libgcc-ng-11.2.0           |       h1234567_1         8.5 MB  anaconda\n",
            "    libgomp-11.2.0             |       h1234567_1         560 KB  anaconda\n",
            "    libsodium-1.0.18           |       h7b6447c_0         387 KB  anaconda\n",
            "    libstdcxx-ng-11.2.0        |       h1234567_1         6.1 MB  anaconda\n",
            "    matplotlib-inline-0.1.6    |   py37h06a4308_0          16 KB  anaconda\n",
            "    nest-asyncio-1.5.6         |   py37h06a4308_0          13 KB  anaconda\n",
            "    openssl-1.1.1s             |       h7f8727e_0         3.8 MB  anaconda\n",
            "    packaging-22.0             |   py37h06a4308_0          63 KB  anaconda\n",
            "    parso-0.8.3                |     pyhd3eb1b0_0          69 KB  anaconda\n",
            "    pexpect-4.8.0              |     pyhd3eb1b0_3          51 KB  anaconda\n",
            "    pickleshare-0.7.5          |  pyhd3eb1b0_1003          13 KB  anaconda\n",
            "    pluggy-1.0.0               |   py37h06a4308_1          28 KB  anaconda\n",
            "    prompt-toolkit-3.0.36      |   py37h06a4308_0         562 KB  anaconda\n",
            "    psutil-5.9.0               |   py37h5eee18b_0         343 KB  anaconda\n",
            "    ptyprocess-0.7.0           |     pyhd3eb1b0_2          16 KB  anaconda\n",
            "    pygments-2.11.2            |     pyhd3eb1b0_0         793 KB  anaconda\n",
            "    python-dateutil-2.8.2      |     pyhd3eb1b0_0         241 KB  anaconda\n",
            "    pyzmq-23.2.0               |   py37h6a678d5_0         496 KB  anaconda\n",
            "    ruamel.yaml-0.17.21        |   py37h5eee18b_0         171 KB  anaconda\n",
            "    ruamel.yaml.clib-0.2.6     |   py37h5eee18b_1         150 KB  anaconda\n",
            "    toolz-0.12.0               |   py37h06a4308_0          98 KB  anaconda\n",
            "    tornado-6.2                |   py37h5eee18b_0         652 KB  anaconda\n",
            "    traitlets-5.7.1            |   py37h06a4308_0         187 KB  anaconda\n",
            "    typing_extensions-4.4.0    |   py37h06a4308_0          45 KB  anaconda\n",
            "    wcwidth-0.2.5              |     pyhd3eb1b0_0          34 KB  anaconda\n",
            "    zeromq-4.3.4               |       h2531618_0         358 KB  anaconda\n",
            "    zipp-3.11.0                |   py37h06a4308_0          18 KB  anaconda\n",
            "    ------------------------------------------------------------\n",
            "                                           Total:        29.5 MB\n",
            "\n",
            "The following NEW packages will be INSTALLED:\n",
            "\n",
            "  _openmp_mutex      anaconda/linux-64::_openmp_mutex-5.1-1_gnu\n",
            "  backcall           anaconda/noarch::backcall-0.2.0-pyhd3eb1b0_0\n",
            "  debugpy            anaconda/linux-64::debugpy-1.5.1-py37h295c915_0\n",
            "  decorator          anaconda/noarch::decorator-5.1.1-pyhd3eb1b0_0\n",
            "  entrypoints        anaconda/linux-64::entrypoints-0.4-py37h06a4308_0\n",
            "  flit-core          anaconda/noarch::flit-core-3.6.0-pyhd3eb1b0_0\n",
            "  importlib-metadata anaconda/linux-64::importlib-metadata-4.11.3-py37h06a4308_0\n",
            "  importlib_metadata anaconda/noarch::importlib_metadata-4.11.3-hd3eb1b0_0\n",
            "  ipykernel          anaconda/linux-64::ipykernel-6.15.2-py37h06a4308_0\n",
            "  ipython            anaconda/linux-64::ipython-7.31.1-py37h06a4308_1\n",
            "  jedi               anaconda/linux-64::jedi-0.18.1-py37h06a4308_1\n",
            "  jupyter_client     anaconda/linux-64::jupyter_client-7.4.8-py37h06a4308_0\n",
            "  jupyter_core       anaconda/linux-64::jupyter_core-4.11.1-py37h06a4308_0\n",
            "  libgomp            anaconda/linux-64::libgomp-11.2.0-h1234567_1\n",
            "  libsodium          anaconda/linux-64::libsodium-1.0.18-h7b6447c_0\n",
            "  matplotlib-inline  anaconda/linux-64::matplotlib-inline-0.1.6-py37h06a4308_0\n",
            "  nest-asyncio       anaconda/linux-64::nest-asyncio-1.5.6-py37h06a4308_0\n",
            "  packaging          anaconda/linux-64::packaging-22.0-py37h06a4308_0\n",
            "  parso              anaconda/noarch::parso-0.8.3-pyhd3eb1b0_0\n",
            "  pexpect            anaconda/noarch::pexpect-4.8.0-pyhd3eb1b0_3\n",
            "  pickleshare        anaconda/noarch::pickleshare-0.7.5-pyhd3eb1b0_1003\n",
            "  pluggy             anaconda/linux-64::pluggy-1.0.0-py37h06a4308_1\n",
            "  prompt-toolkit     anaconda/linux-64::prompt-toolkit-3.0.36-py37h06a4308_0\n",
            "  psutil             anaconda/linux-64::psutil-5.9.0-py37h5eee18b_0\n",
            "  ptyprocess         anaconda/noarch::ptyprocess-0.7.0-pyhd3eb1b0_2\n",
            "  pygments           anaconda/noarch::pygments-2.11.2-pyhd3eb1b0_0\n",
            "  python-dateutil    anaconda/noarch::python-dateutil-2.8.2-pyhd3eb1b0_0\n",
            "  pyzmq              anaconda/linux-64::pyzmq-23.2.0-py37h6a678d5_0\n",
            "  ruamel.yaml        anaconda/linux-64::ruamel.yaml-0.17.21-py37h5eee18b_0\n",
            "  ruamel.yaml.clib   anaconda/linux-64::ruamel.yaml.clib-0.2.6-py37h5eee18b_1\n",
            "  toolz              anaconda/linux-64::toolz-0.12.0-py37h06a4308_0\n",
            "  tornado            anaconda/linux-64::tornado-6.2-py37h5eee18b_0\n",
            "  traitlets          anaconda/linux-64::traitlets-5.7.1-py37h06a4308_0\n",
            "  typing_extensions  anaconda/linux-64::typing_extensions-4.4.0-py37h06a4308_0\n",
            "  wcwidth            anaconda/noarch::wcwidth-0.2.5-pyhd3eb1b0_0\n",
            "  zeromq             anaconda/linux-64::zeromq-4.3.4-h2531618_0\n",
            "  zipp               anaconda/linux-64::zipp-3.11.0-py37h06a4308_0\n",
            "\n",
            "The following packages will be UPDATED:\n",
            "\n",
            "  ca-certificates     pkgs/main::ca-certificates-2020.1.1-0 --> anaconda::ca-certificates-2023.01.10-h06a4308_0\n",
            "  certifi              pkgs/main::certifi-2019.11.28-py37_0 --> anaconda::certifi-2022.12.7-py37h06a4308_0\n",
            "  conda                       pkgs/main::conda-4.8.2-py37_0 --> anaconda::conda-23.1.0-py37h06a4308_0\n",
            "  libgcc-ng           pkgs/main::libgcc-ng-9.1.0-hdf63c60_0 --> anaconda::libgcc-ng-11.2.0-h1234567_1\n",
            "  libstdcxx-ng       pkgs/main::libstdcxx-ng-9.1.0-hdf63c6~ --> anaconda::libstdcxx-ng-11.2.0-h1234567_1\n",
            "  openssl              pkgs/main::openssl-1.1.1d-h7b6447c_4 --> anaconda::openssl-1.1.1s-h7f8727e_0\n",
            "\n",
            "\n",
            "Proceed ([y]/n)? y\n",
            "\n",
            "\n",
            "Downloading and Extracting Packages\n",
            "python-dateutil-2.8. | 241 KB    | : 100% 1.0/1 [00:00<00:00,  6.44it/s]               \n",
            "wcwidth-0.2.5        | 34 KB     | : 100% 1.0/1 [00:00<00:00, 18.23it/s]\n",
            "traitlets-5.7.1      | 187 KB    | : 100% 1.0/1 [00:00<00:00, 10.05it/s]\n",
            "pyzmq-23.2.0         | 496 KB    | : 100% 1.0/1 [00:00<00:00,  2.40s/it]                \n",
            "debugpy-1.5.1        | 2.0 MB    | : 100% 1.0/1 [00:00<00:00,  1.53it/s]\n",
            "conda-23.1.0         | 955 KB    | : 100% 1.0/1 [00:00<00:00,  2.92it/s]\n",
            "psutil-5.9.0         | 343 KB    | : 100% 1.0/1 [00:00<00:00,  7.11it/s]\n",
            "pexpect-4.8.0        | 51 KB     | : 100% 1.0/1 [00:00<00:00, 18.22it/s]\n",
            "jupyter_core-4.11.1  | 81 KB     | : 100% 1.0/1 [00:00<00:00,  6.56it/s]                \n",
            "ipykernel-6.15.2     | 185 KB    | : 100% 1.0/1 [00:00<00:00,  4.98it/s]                \n",
            "decorator-5.1.1      | 12 KB     | : 100% 1.0/1 [00:00<00:00, 23.04it/s]\n",
            "nest-asyncio-1.5.6   | 13 KB     | : 100% 1.0/1 [00:00<00:00,  8.89it/s]\n",
            "importlib-metadata-4 | 40 KB     | : 100% 1.0/1 [00:00<00:00, 17.16it/s]\n",
            "importlib_metadata-4 | 12 KB     | : 100% 1.0/1 [00:00<00:00, 25.78it/s]\n",
            "toolz-0.12.0         | 98 KB     | : 100% 1.0/1 [00:00<00:00, 15.40it/s]\n",
            "matplotlib-inline-0. | 16 KB     | : 100% 1.0/1 [00:00<00:00,  9.43it/s]\n",
            "libstdcxx-ng-11.2.0  | 6.1 MB    | : 100% 1.0/1 [00:01<00:00,  1.17s/it]               \n",
            "ca-certificates-2023 | 127 KB    | : 100% 1.0/1 [00:00<00:00, 17.82it/s]\n",
            "_openmp_mutex-5.1    | 20 KB     | : 100% 1.0/1 [00:00<00:00, 21.90it/s]\n",
            "jupyter_client-7.4.8 | 189 KB    | : 100% 1.0/1 [00:00<00:00,  5.27it/s]               \n",
            "jedi-0.18.1          | 1001 KB   | : 100% 1.0/1 [00:00<00:00,  1.67it/s]\n",
            "ptyprocess-0.7.0     | 16 KB     | : 100% 1.0/1 [00:00<00:00, 26.11it/s]\n",
            "libsodium-1.0.18     | 387 KB    | : 100% 1.0/1 [00:00<00:00,  6.42it/s]\n",
            "prompt-toolkit-3.0.3 | 562 KB    | : 100% 1.0/1 [00:00<00:00,  4.88it/s]\n",
            "libgcc-ng-11.2.0     | 8.5 MB    | : 100% 1.0/1 [00:01<00:00,  1.15it/s]               \n",
            "zipp-3.11.0          | 18 KB     | : 100% 1.0/1 [00:00<00:00, 24.75it/s]\n",
            "pickleshare-0.7.5    | 13 KB     | : 100% 1.0/1 [00:00<00:00, 19.48it/s]\n",
            "certifi-2022.12.7    | 152 KB    | : 100% 1.0/1 [00:00<00:00, 17.69it/s]\n",
            "openssl-1.1.1s       | 3.8 MB    | : 100% 1.0/1 [00:00<00:00,  1.53it/s]\n",
            "typing_extensions-4. | 45 KB     | : 100% 1.0/1 [00:00<00:00, 28.56it/s]\n",
            "ipython-7.31.1       | 1.1 MB    | : 100% 1.0/1 [00:00<00:00,  4.41s/it]               \n",
            "ruamel.yaml-0.17.21  | 171 KB    | : 100% 1.0/1 [00:00<00:00, 14.33it/s]\n",
            "ruamel.yaml.clib-0.2 | 150 KB    | : 100% 1.0/1 [00:00<00:00,  3.71it/s]                \n",
            "zeromq-4.3.4         | 358 KB    | : 100% 1.0/1 [00:00<00:00, 10.28it/s]\n",
            "flit-core-3.6.0      | 42 KB     | : 100% 1.0/1 [00:00<00:00, 21.80it/s]\n",
            "libgomp-11.2.0       | 560 KB    | : 100% 1.0/1 [00:00<00:00, 10.07it/s]\n",
            "backcall-0.2.0       | 13 KB     | : 100% 1.0/1 [00:00<00:00, 31.86it/s]\n",
            "packaging-22.0       | 63 KB     | : 100% 1.0/1 [00:00<00:00, 24.91it/s]\n",
            "pygments-2.11.2      | 793 KB    | : 100% 1.0/1 [00:00<00:00,  5.33it/s]\n",
            "pluggy-1.0.0         | 28 KB     | : 100% 1.0/1 [00:00<00:00,  8.43it/s]               \n",
            "entrypoints-0.4      | 16 KB     | : 100% 1.0/1 [00:00<00:00,  9.41it/s]\n",
            "tornado-6.2          | 652 KB    | : 100% 1.0/1 [00:00<00:00,  2.41it/s]               \n",
            "parso-0.8.3          | 69 KB     | : 100% 1.0/1 [00:00<00:00, 23.21it/s]\n",
            "Preparing transaction: \\ \b\b| \b\b/ \b\bdone\n",
            "Verifying transaction: \\ \b\b| \b\b/ \b\b- \b\b\\ \b\b| \b\bdone\n",
            "Executing transaction: - \b\b\\ \b\b| \b\b/ \b\b- \b\b\\ \b\b| \b\b/ \b\b- \b\b\\ \b\b| \b\b/ \b\b- \b\b\\ \b\b| \b\b/ \b\bdone\n"
          ]
        }
      ]
    },
    {
      "cell_type": "code",
      "source": [],
      "metadata": {
        "id": "k2ycg8ZwoVGd"
      },
      "execution_count": null,
      "outputs": []
    }
  ],
  "metadata": {
    "accelerator": "GPU",
    "colab": {
      "provenance": []
    },
    "gpuClass": "standard",
    "kernelspec": {
      "display_name": "Python 3",
      "name": "python3"
    },
    "language_info": {
      "name": "python"
    }
  },
  "nbformat": 4,
  "nbformat_minor": 0
}